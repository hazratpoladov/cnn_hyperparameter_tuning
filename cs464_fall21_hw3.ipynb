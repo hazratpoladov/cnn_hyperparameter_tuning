{
 "cells": [
  {
   "cell_type": "markdown",
   "metadata": {
    "id": "KDSS2c_hXISc"
   },
   "source": [
    "**<h1><center>CS 464</center></h1>**\n",
    "**<h1><center>Introduction to Machine Learning</center></h1>**\n",
    "**<h1><center>Fall 2021</center></h1>**\n",
    "**<h1><center>Homework 3</center></h1>**\n",
    "<h4><center>Due: Jan 02, 2022 17:00 (GMT+3)</center></h4>"
   ]
  },
  {
   "cell_type": "markdown",
   "metadata": {
    "id": "W5qurNR3XkKT"
   },
   "source": [
    "### Instructions\n",
    "\n",
    "<ul>\n",
    "    <li>\n",
    "    This homework contains both written and programming questions about neural networks. You should implement programming questions on this notebook. Your plots should also be produced in this notebook. Each programming question has its own cell for your answer. You can implement your code directly in these cells, or you can call required functions which are defined in a different location for the given question.\n",
    "    </li>\n",
    "    <li>\n",
    "    For questions that you need to plot, your plot results have to be included in the cell output. For written questions, you may provide them either as comments in code cells or as seperate text cells. \n",
    "    </li>\n",
    "    <li>\n",
    "    You are <b>NOT ALLOWED</b> to use different libraries than given libraries in the code segments of this homework except for libraries inclueded in Python Standard Library (https://docs.python.org/3/library/).\n",
    "    </li>\n",
    "    <li>\n",
    "    You are <b>NOT ALLOWED</b> to use a different deep learning framework than PyTorch.\n",
    "    </li>\n",
    "    <li>\n",
    "    While submitting the homework file, please package notebook(\".ipynb\") and model (\".pth\") files as a gzipped TAR file or a ZIP file with the name cs464_hw3_section#_Firstname_Lastname. Please do not use any Turkish letters for any of your files including code files and model files. Upload your homework to Moodle.\n",
    "    </li>\n",
    "    <li>\n",
    "    This is an individual assignment for each student. That is, you are NOT allowed to share your work with your classmates.</li>\n",
    "    <li> \n",
    "    If you do not follow the submission routes, deadlines and specifications, it will lead to a significant grade deduction.\n",
    "    </li>\n",
    "    <li> \n",
    "    If you have any questions, please contact \"hakansivuk@gmail.com\".\n",
    "    </li>\n",
    "\n",
    "</ul>"
   ]
  },
  {
   "cell_type": "markdown",
   "metadata": {
    "id": "9d7BOVodYiGe"
   },
   "source": [
    "## Environment Setup"
   ]
  },
  {
   "cell_type": "markdown",
   "metadata": {
    "id": "EPlCx2GsYnHS"
   },
   "source": [
    "This homewrok is prepeared by using Google CoLab which already has required libraries. However, if you are using your own local Jupyter or any other Python notebook editor, you may use both anaconda or pip to install PyTorch to your own computer."
   ]
  },
  {
   "cell_type": "markdown",
   "metadata": {
    "id": "LM4dpplWZBGS"
   },
   "source": [
    "### Anaconda Installation\n",
    "\n",
    "<ul>\n",
    "    <li>Download anaconda from https://www.anaconda.com/download</li>\n",
    "    <li>Follow the instructions provided in https://conda.io/docs/user-guide/install/index.html#regular-installation</li>\n",
    "</ul>\n",
    "\n",
    "#### Creation of Virtual Environment\n",
    "\n",
    "<ul>\n",
    "    <li>Create python3.7 virtual environment for your hw3 using follow command from the command line<br>\n",
    "        <i>> conda create -n HW3 python=3.7 anaconda</i></li>\n",
    "    <li>Activate your virtual environment<br>\n",
    "        <i>> source activate HW3</i></li>\n",
    "    <li>To install auxiliary libraries, replace the \"package_name\" in the following command and run it in activated \"hw3\" environment <br>\n",
    "        <i>> pip install \"package_name\"<i></li>\n",
    "     <li>When you create your virtual environment with \"anaconda\" metapackage, jupyter notebook should be installed. Try:<br>\n",
    "         <i>> jupyter notebook</i>\n",
    "</ul>\n",
    "\n",
    "\n",
    "#### Pytorch Installation with Anaconda\n",
    "\n",
    "You should install PyTorch to your virtual environment which is created for the hw3. Therefore, you should activate your homework virtual environment before to start PyTorch installation.\n",
    "<li>> source activate HW3</li>\n",
    "\n",
    "After you have activated the virtual environment, then use one of the following commands to install pytorch for CPU for your system. See https://pytorch.org/ for help.\n",
    "<ul>\n",
    "<li>For MacOS:<br>\n",
    "    <i>> conda install pytorch torchvision -c pytorch</i>\n",
    "</li>\n",
    "<li>For Linux:<br>\n",
    "    <i>> conda install pytorch-cpu torchvision-cpu -c pytorch</i>\n",
    "</li>\n",
    "<li>For Windows:<br>\n",
    "    <i>> conda install pytorch-cpu torchvision-cpu -c pytorch</i><br>\n",
    "</li>"
   ]
  },
  {
   "cell_type": "markdown",
   "metadata": {
    "id": "AVlcWIXEZZGO"
   },
   "source": [
    "###Pip3 Installation\n",
    "<ul>\n",
    "    <li>Download pip3 from https://pip.pypa.io/en/stable/installing/</li>\n",
    "    <li>If you are using Windows, you may need to add Python to your enviroment variables. You may use the following tutorial to install Python and pip.\n",
    "    https://phoenixnap.com/kb/how-to-install-python-3-windows</li>\n",
    "</ul>\n",
    "\n",
    "#### PyTorch Installation with Pip\n",
    "<ul>\n",
    "<li>For MacOS:<br>\n",
    "    <i>> pip3 install torch torchvision</i>\n",
    "</li>\n",
    "<li>For Linux:<br>\n",
    "    <i>> pip3 install torch==1.3.1+cpu torchvision==0.4.2+cpu -f https://download.pytorch.org/whl/torch_stable.html</i>\n",
    "</li>\n",
    "<li>For Windows:<br>\n",
    "    <i>> pip3 install torch==1.3.1+cpu torchvision==0.4.2+cpu -f https://download.pytorch.org/whl/torch_stable.html</i><br>\n",
    "</li>\n"
   ]
  },
  {
   "cell_type": "markdown",
   "metadata": {
    "id": "I0CsUtpmZmBk"
   },
   "source": [
    "##Question 1 [12 pts.]\n",
    "\n",
    "Answer the given questions with **at most a sentence**.\n",
    "\n",
    "  >a) Why do people use validation data?<br>\n",
    "      Answer: Validation data is used to control whether model is overfitted or not.\n",
    "      \n",
    "  >b) What is the difference between mean squared error and mean absolute error?<br>\n",
    "      Answer: MSE calculate square of the error while MAE calculate absolute and therefore, MAE works well with outliers.\n",
    "      \n",
    "  >c) What is the main problem of using sigmoid as activation function in an artificial neural network (ANN)?<br>\n",
    "      Answer: Sigmoid is not zero centered and it is possible that gradients can be killed.\n",
    "      \n",
    "  >d) What does it mean to overfit your data model?<br>\n",
    "      Answer: When complexity of the model is too high, model memorize train data well but it cannot generalize.\n",
    "      \n",
    "  >e) Your input image size is 3x64x64. If you apply 3x3 convolution with input_channel=3, output_channel=6, padding=0, stride=2, what would be the size of the output?<br>\n",
    "      Answer: 6x31x31\n",
    "      \n",
    "  >f) In the previous question, how many trainable parameters are there? (you should also consider bias terms in addition to weights)<br>\n",
    "      Answer: 5767\n",
    "\n",
    "\n"
   ]
  },
  {
   "cell_type": "markdown",
   "metadata": {
    "id": "fnAVhRr4eTPo"
   },
   "source": [
    "##Question 2 [88 pts.]"
   ]
  },
  {
   "cell_type": "markdown",
   "metadata": {
    "id": "GnaXgIskP6iY"
   },
   "source": [
    "Computer vision (CV) is the field of study that deals with how computers can gain high-level understanding from digital images or videos. Your task for this question is to classify scenes according to their contexts by using simple machine learning algorithms developed for CV problems on scene images.\n",
    "\n",
    "Your dataset consist of scene images from 4 contexts. Images of each context is stored under separate folders in the compressed file given to you.  The dataset has been processed in such a way that each class has approximately 2500 samples.\n",
    "\n",
    "Download the dataset from the following link:\n",
    "<br>\n",
    "https://drive.google.com/file/d/1l51t3aTY7B131fwq92ACI_b_D5Idq5In/view?usp=sharing\n",
    "<br>\n",
    "\n",
    "Libraries that are required in this question is given in the following code cell."
   ]
  },
  {
   "cell_type": "code",
   "execution_count": 21,
   "metadata": {
    "colab": {
     "base_uri": "https://localhost:8080/"
    },
    "id": "Z37KSYkSXHtz",
    "outputId": "ab306e11-5ab7-40e5-a62e-733ea623fd51"
   },
   "outputs": [],
   "source": [
    "# Mount Google Drive\n",
    "# from google.colab import drive\n",
    "# drive.mount('/content/drive')\n",
    "# PyTorch\n",
    "import torch\n",
    "import torch.nn as nn\n",
    "import torch.nn.functional as F\n",
    "import torchvision.models as models\n",
    "\n",
    "# To Read Data\n",
    "from torch.utils.data import Dataset, DataLoader\n",
    "import numpy as np\n",
    "from PIL import Image\n",
    "# To Interpret results & obtain plots\n",
    "from sklearn.model_selection import train_test_split\n",
    "from sklearn.metrics import confusion_matrix, f1_score, precision_score, recall_score, accuracy_score\n",
    "import matplotlib.pyplot as plt\n",
    "\n",
    "# You could add your own libraries form Python Standard Library in this cell. Any other external libraries are not allowed.\n",
    "import os\n",
    "from tqdm import tqdm\n",
    "root = \"~/CS464_Fall21_HW3/data\""
   ]
  },
  {
   "cell_type": "markdown",
   "metadata": {
    "id": "Kkd-WIVwTQsn"
   },
   "source": [
    "### Data Loader [6 pts.]\n",
    "\n",
    "An important part of such a task is to implement your own data loader. In this homework, a partial loader is provided to you. This loader is going to be based on a base class named \"Dataset\", provided in PyTorch library. You need to complete the code below to create your custom \"SceneDataset\" class which will be able to load your dataset. Implement the functions whose proptotypes are given. Follow the TODO notes below. You have to divide the files into three sets as <b>train (70%)</b>, \n",
    "<b>validation (10%)</b> and **test (20%)** sets.  These non-overlapping splits, which are subsets of SceneDataset, should be retrieved using the \"get_dataset\" function.\n",
    "\n",
    "Hint: The dataset is not normalized and your results will heavily depend on your input."
   ]
  },
  {
   "cell_type": "code",
   "execution_count": 22,
   "metadata": {
    "id": "x9fac_LpYdXE"
   },
   "outputs": [],
   "source": [
    "class SceneDataset(Dataset):\n",
    "    # TODO:\n",
    "    # Define constructor for SceneDataset class\n",
    "    # HINT: You can pass processed data samples and their ground truth values as parameters \n",
    "    def __init__(self, root): # you are free to change parameters\n",
    "        self.class_num = len(os.listdir(root))\n",
    "        self.root = root\n",
    "        self.data = None\n",
    "        self.labels = []\n",
    "        label_count = -1\n",
    "        print(\"Dataset is creating\")\n",
    "        for file in os.listdir(self.root):\n",
    "          label_count += 1\n",
    "          for image_name in tqdm(os.listdir(os.path.join(self.root, file))):\n",
    "            image = Image.open(os.path.join(self.root, file, image_name))\n",
    "            image = torch.tensor(np.array(image)) / 255.\n",
    "            if self.data != None:\n",
    "              self.data = torch.cat((self.data, torch.unsqueeze(image.permute((2,0,1)), dim =0)),dim = 0)\n",
    "            else:\n",
    "              self.data = torch.unsqueeze(image.permute((2,0,1)), dim = 0)\n",
    "            self.labels.append(label_count)\n",
    "        self.labels = torch.tensor(self.labels)\n",
    "            \n",
    "\n",
    "    '''This function should return sample count in the dataset'''\n",
    "    def __len__(self):\n",
    "        return self.labels.shape[0]\n",
    "\n",
    "    '''This function should return a single sample and its ground truth value from the dataset corresponding to index parameter '''\n",
    "    def __getitem__(self, index):\n",
    "        return self.data[index], self.labels[index]\n"
   ]
  },
  {
   "cell_type": "code",
   "execution_count": 23,
   "metadata": {
    "id": "vE3b0p2IWrdo"
   },
   "outputs": [],
   "source": [
    "def get_dataset(root):\n",
    "    # TODO: \n",
    "    # Read dataset files\n",
    "    # Construct training, validation and test sets\n",
    "    # Normalize datasets\n",
    "    dataset = SceneDataset(root=root)\n",
    "    train_ds_size = int(dataset.__len__() * 0.7)\n",
    "    val_ds_size = int(dataset.__len__() * 0.1)\n",
    "    test_ds_size = int(dataset.__len__() * 0.2)\n",
    "    train_dataset, val_dataset,test_dataset = torch.utils.data.random_split(dataset, [train_ds_size, val_ds_size,test_ds_size])\n",
    "    train_dataset\n",
    "    return train_dataset, val_dataset, test_dataset\n"
   ]
  },
  {
   "cell_type": "markdown",
   "metadata": {
    "id": "wFVQay-2Z7Ix"
   },
   "source": [
    "###Model Implementation [7 pts]\n",
    "\n",
    "Now implement your CNN. ConvNet class will represent your convolutional neural network. Implement 3 layers of convolution: \n",
    "<ul>\n",
    "    <li>(1) 4 filters with size of 3 x 3 with stride 1 and padding 1, (2) ReLU </li>\n",
    "    <li>(3) 8 filters with size of 3 x 3 with stride 1 and padding 1, (4) ReLU and (5) MaxPool 2 x 2 </li>\n",
    "    <li>(6) 16 filters with size of 3 x 3 with stride 1 and padding 1, (7) ReLU and (8) MaxPool 2 x 2 </li> \n",
    "</ul>\n",
    "\n",
    "As the classifier layer, you need to add only one linear layer at the end of the network. You need to choose the appropriate input and output neuron sizes and the activation function for the dense layer."
   ]
  },
  {
   "cell_type": "code",
   "execution_count": 24,
   "metadata": {
    "id": "lNnoeEy-aGA3"
   },
   "outputs": [],
   "source": [
    "from torch.nn.modules.activation import ReLU\n",
    "class ConvNet(nn.Module):\n",
    "    '''Define your neural network'''\n",
    "    def __init__(self): # you can add any additional parameters you want \n",
    "    # TODO:\n",
    "    # You should create your neural network here\n",
    "      super(ConvNet,self).__init__()\n",
    "      self.conv = nn.Sequential(\n",
    "          nn.Conv2d(in_channels=3, out_channels=4, kernel_size=3, stride=1, padding=1),\n",
    "          nn.ReLU(),\n",
    "          nn.Conv2d(in_channels=4, out_channels=8, kernel_size=3, stride=1, padding=1),\n",
    "          nn.ReLU(),\n",
    "          nn.MaxPool2d(kernel_size=2),\n",
    "          nn.Conv2d(in_channels=8, out_channels=16, kernel_size=3, stride=1, padding=1),\n",
    "          nn.ReLU(),\n",
    "          nn.MaxPool2d(kernel_size=2))\n",
    "      output_conv = self.conv(torch.randn(1,3,90,90)).reshape(1,-1).shape[-1]\n",
    "      self.fc = nn.Linear(output_conv, 128)\n",
    "      self.output = nn.Linear(128, 4)\n",
    "      \n",
    "     \n",
    "    def forward(self, X): # you can add any additional parameters you want\n",
    "    # TODO:\n",
    "    # Forward propagation implementation should be here\n",
    "      out = self.conv(X).reshape(X.shape[0],-1)\n",
    "      out = F.relu(self.fc(out))\n",
    "      out = F.softmax(self.output(out), dim=-1)\n",
    "\n",
    "      return out"
   ]
  },
  {
   "cell_type": "markdown",
   "metadata": {
    "id": "s4HT9fvm_jgX"
   },
   "source": [
    "###Stochastic Gradient Descent [25 pts.]"
   ]
  },
  {
   "cell_type": "markdown",
   "metadata": {
    "id": "ZJO7J4sf7YGZ"
   },
   "source": [
    "####Training with SGD [15 pts.]\n",
    "\n",
    "Train your model up to 300 epochs with properly processed inputs, i.e. call your \"get_dataset\" function. Use SGD as your optimizer. Tune your learning rate, weight decay. Do not add additional parameters to SGD. Save your best model as \"best_cnn_sgd.pth\". The best model should be selected based on validation dataset. You could use any measurement and/or metric to decide on the best model. However, you must explain your reasoning in your choice.\n",
    "\n",
    "During training, you need to plot two figures:\n",
    "1. training loss and validation loss vs. epoch\n",
    "2. training accuracy and validation accuracy vs. epoch <br>\n",
    "\n",
    "Name your axes and plots properly."
   ]
  },
  {
   "cell_type": "code",
   "execution_count": 25,
   "metadata": {
    "colab": {
     "base_uri": "https://localhost:8080/"
    },
    "id": "S4VU9L1jCNCC",
    "outputId": "bdd5a23b-b3d9-4fa6-9d47-936cb6dc0c7c"
   },
   "outputs": [
    {
     "name": "stdout",
     "output_type": "stream",
     "text": [
      "Dataset is creating\n"
     ]
    },
    {
     "name": "stderr",
     "output_type": "stream",
     "text": [
      "100%|██████████| 2500/2500 [01:15<00:00, 33.19it/s]\n",
      "100%|██████████| 2500/2500 [03:42<00:00, 11.25it/s]\n",
      "100%|██████████| 2500/2500 [06:07<00:00,  6.81it/s]\n",
      "100%|██████████| 2500/2500 [08:28<00:00,  4.91it/s]\n"
     ]
    },
    {
     "name": "stdout",
     "output_type": "stream",
     "text": [
      "Epoch 1\n"
     ]
    },
    {
     "name": "stderr",
     "output_type": "stream",
     "text": [
      "100%|██████████| 218/218 [00:06<00:00, 32.24it/s]\n"
     ]
    },
    {
     "name": "stdout",
     "output_type": "stream",
     "text": [
      "Train Loss 273.3970031738281\n",
      "Train Accuracy 45.61%\n"
     ]
    },
    {
     "name": "stderr",
     "output_type": "stream",
     "text": [
      "100%|██████████| 31/31 [00:00<00:00, 51.17it/s]\n"
     ]
    },
    {
     "name": "stdout",
     "output_type": "stream",
     "text": [
      "Best Model Saved!\n",
      "Validation Loss 34.13933563232422\n",
      "Validation Accuracy 62.40%\n",
      "Epoch 2\n"
     ]
    },
    {
     "name": "stderr",
     "output_type": "stream",
     "text": [
      "100%|██████████| 218/218 [00:06<00:00, 33.28it/s]\n"
     ]
    },
    {
     "name": "stdout",
     "output_type": "stream",
     "text": [
      "Train Loss 246.8282470703125\n",
      "Train Accuracy 59.69%\n"
     ]
    },
    {
     "name": "stderr",
     "output_type": "stream",
     "text": [
      "100%|██████████| 31/31 [00:00<00:00, 50.21it/s]\n"
     ]
    },
    {
     "name": "stdout",
     "output_type": "stream",
     "text": [
      "Best Model Saved!\n",
      "Validation Loss 33.557701110839844\n",
      "Validation Accuracy 65.42%\n",
      "Epoch 3\n"
     ]
    },
    {
     "name": "stderr",
     "output_type": "stream",
     "text": [
      "100%|██████████| 218/218 [00:06<00:00, 33.07it/s]\n"
     ]
    },
    {
     "name": "stdout",
     "output_type": "stream",
     "text": [
      "Train Loss 243.4304962158203\n",
      "Train Accuracy 61.60%\n"
     ]
    },
    {
     "name": "stderr",
     "output_type": "stream",
     "text": [
      "100%|██████████| 31/31 [00:00<00:00, 50.29it/s]\n"
     ]
    },
    {
     "name": "stdout",
     "output_type": "stream",
     "text": [
      "Best Model Saved!\n",
      "Validation Loss 33.29669952392578\n",
      "Validation Accuracy 65.73%\n",
      "Epoch 4\n"
     ]
    },
    {
     "name": "stderr",
     "output_type": "stream",
     "text": [
      "100%|██████████| 218/218 [00:06<00:00, 33.21it/s]\n"
     ]
    },
    {
     "name": "stdout",
     "output_type": "stream",
     "text": [
      "Train Loss 240.8866729736328\n",
      "Train Accuracy 62.84%\n"
     ]
    },
    {
     "name": "stderr",
     "output_type": "stream",
     "text": [
      "100%|██████████| 31/31 [00:00<00:00, 49.72it/s]\n"
     ]
    },
    {
     "name": "stdout",
     "output_type": "stream",
     "text": [
      "Validation Loss 33.77656555175781\n",
      "Validation Accuracy 63.81%\n",
      "Epoch 5\n"
     ]
    },
    {
     "name": "stderr",
     "output_type": "stream",
     "text": [
      "100%|██████████| 218/218 [00:06<00:00, 33.08it/s]\n"
     ]
    },
    {
     "name": "stdout",
     "output_type": "stream",
     "text": [
      "Train Loss 238.2764434814453\n",
      "Train Accuracy 63.85%\n"
     ]
    },
    {
     "name": "stderr",
     "output_type": "stream",
     "text": [
      "100%|██████████| 31/31 [00:00<00:00, 50.80it/s]\n"
     ]
    },
    {
     "name": "stdout",
     "output_type": "stream",
     "text": [
      "Best Model Saved!\n",
      "Validation Loss 33.1826057434082\n",
      "Validation Accuracy 68.55%\n",
      "Epoch 6\n"
     ]
    },
    {
     "name": "stderr",
     "output_type": "stream",
     "text": [
      "100%|██████████| 218/218 [00:06<00:00, 33.08it/s]\n"
     ]
    },
    {
     "name": "stdout",
     "output_type": "stream",
     "text": [
      "Train Loss 235.37625122070312\n",
      "Train Accuracy 65.54%\n"
     ]
    },
    {
     "name": "stderr",
     "output_type": "stream",
     "text": [
      "100%|██████████| 31/31 [00:00<00:00, 50.47it/s]\n"
     ]
    },
    {
     "name": "stdout",
     "output_type": "stream",
     "text": [
      "Validation Loss 32.53479766845703\n",
      "Validation Accuracy 68.15%\n",
      "Epoch 7\n"
     ]
    },
    {
     "name": "stderr",
     "output_type": "stream",
     "text": [
      "100%|██████████| 218/218 [00:06<00:00, 33.17it/s]\n"
     ]
    },
    {
     "name": "stdout",
     "output_type": "stream",
     "text": [
      "Train Loss 235.57688903808594\n",
      "Train Accuracy 65.45%\n"
     ]
    },
    {
     "name": "stderr",
     "output_type": "stream",
     "text": [
      "100%|██████████| 31/31 [00:00<00:00, 50.42it/s]\n"
     ]
    },
    {
     "name": "stdout",
     "output_type": "stream",
     "text": [
      "Validation Loss 32.75518798828125\n",
      "Validation Accuracy 67.54%\n",
      "Epoch 8\n"
     ]
    },
    {
     "name": "stderr",
     "output_type": "stream",
     "text": [
      "100%|██████████| 218/218 [00:06<00:00, 33.08it/s]\n"
     ]
    },
    {
     "name": "stdout",
     "output_type": "stream",
     "text": [
      "Train Loss 231.01751708984375\n",
      "Train Accuracy 67.57%\n"
     ]
    },
    {
     "name": "stderr",
     "output_type": "stream",
     "text": [
      "100%|██████████| 31/31 [00:00<00:00, 50.05it/s]\n"
     ]
    },
    {
     "name": "stdout",
     "output_type": "stream",
     "text": [
      "Best Model Saved!\n",
      "Validation Loss 31.92091178894043\n",
      "Validation Accuracy 70.56%\n",
      "Epoch 9\n"
     ]
    },
    {
     "name": "stderr",
     "output_type": "stream",
     "text": [
      "100%|██████████| 218/218 [00:06<00:00, 33.16it/s]\n"
     ]
    },
    {
     "name": "stdout",
     "output_type": "stream",
     "text": [
      "Train Loss 228.50157165527344\n",
      "Train Accuracy 68.55%\n"
     ]
    },
    {
     "name": "stderr",
     "output_type": "stream",
     "text": [
      "100%|██████████| 31/31 [00:00<00:00, 50.87it/s]\n"
     ]
    },
    {
     "name": "stdout",
     "output_type": "stream",
     "text": [
      "Validation Loss 32.38589096069336\n",
      "Validation Accuracy 68.55%\n",
      "Epoch 10\n"
     ]
    },
    {
     "name": "stderr",
     "output_type": "stream",
     "text": [
      "100%|██████████| 218/218 [00:06<00:00, 33.25it/s]\n"
     ]
    },
    {
     "name": "stdout",
     "output_type": "stream",
     "text": [
      "Train Loss 224.95143127441406\n",
      "Train Accuracy 70.51%\n"
     ]
    },
    {
     "name": "stderr",
     "output_type": "stream",
     "text": [
      "100%|██████████| 31/31 [00:00<00:00, 50.61it/s]\n"
     ]
    },
    {
     "name": "stdout",
     "output_type": "stream",
     "text": [
      "Best Model Saved!\n",
      "Validation Loss 31.62520980834961\n",
      "Validation Accuracy 72.08%\n",
      "Epoch 11\n"
     ]
    },
    {
     "name": "stderr",
     "output_type": "stream",
     "text": [
      "100%|██████████| 218/218 [00:06<00:00, 33.15it/s]\n"
     ]
    },
    {
     "name": "stdout",
     "output_type": "stream",
     "text": [
      "Train Loss 223.70489501953125\n",
      "Train Accuracy 71.29%\n"
     ]
    },
    {
     "name": "stderr",
     "output_type": "stream",
     "text": [
      "100%|██████████| 31/31 [00:00<00:00, 50.78it/s]\n"
     ]
    },
    {
     "name": "stdout",
     "output_type": "stream",
     "text": [
      "Validation Loss 32.682132720947266\n",
      "Validation Accuracy 67.64%\n",
      "Epoch 12\n"
     ]
    },
    {
     "name": "stderr",
     "output_type": "stream",
     "text": [
      "100%|██████████| 218/218 [00:06<00:00, 33.25it/s]\n"
     ]
    },
    {
     "name": "stdout",
     "output_type": "stream",
     "text": [
      "Train Loss 221.42538452148438\n",
      "Train Accuracy 72.36%\n"
     ]
    },
    {
     "name": "stderr",
     "output_type": "stream",
     "text": [
      "100%|██████████| 31/31 [00:00<00:00, 48.49it/s]\n"
     ]
    },
    {
     "name": "stdout",
     "output_type": "stream",
     "text": [
      "Validation Loss 31.68645668029785\n",
      "Validation Accuracy 71.57%\n",
      "Epoch 13\n"
     ]
    },
    {
     "name": "stderr",
     "output_type": "stream",
     "text": [
      "100%|██████████| 218/218 [00:06<00:00, 33.24it/s]\n"
     ]
    },
    {
     "name": "stdout",
     "output_type": "stream",
     "text": [
      "Train Loss 219.29518127441406\n",
      "Train Accuracy 73.45%\n"
     ]
    },
    {
     "name": "stderr",
     "output_type": "stream",
     "text": [
      "100%|██████████| 31/31 [00:00<00:00, 50.87it/s]\n"
     ]
    },
    {
     "name": "stdout",
     "output_type": "stream",
     "text": [
      "Best Model Saved!\n",
      "Validation Loss 31.121273040771484\n",
      "Validation Accuracy 72.78%\n",
      "Epoch 14\n"
     ]
    },
    {
     "name": "stderr",
     "output_type": "stream",
     "text": [
      "100%|██████████| 218/218 [00:06<00:00, 32.96it/s]\n"
     ]
    },
    {
     "name": "stdout",
     "output_type": "stream",
     "text": [
      "Train Loss 217.22610473632812\n",
      "Train Accuracy 74.07%\n"
     ]
    },
    {
     "name": "stderr",
     "output_type": "stream",
     "text": [
      "100%|██████████| 31/31 [00:00<00:00, 50.78it/s]\n"
     ]
    },
    {
     "name": "stdout",
     "output_type": "stream",
     "text": [
      "Best Model Saved!\n",
      "Validation Loss 30.781883239746094\n",
      "Validation Accuracy 75.30%\n",
      "Epoch 15\n"
     ]
    },
    {
     "name": "stderr",
     "output_type": "stream",
     "text": [
      "100%|██████████| 218/218 [00:06<00:00, 33.28it/s]\n"
     ]
    },
    {
     "name": "stdout",
     "output_type": "stream",
     "text": [
      "Train Loss 215.82386779785156\n",
      "Train Accuracy 74.94%\n"
     ]
    },
    {
     "name": "stderr",
     "output_type": "stream",
     "text": [
      "100%|██████████| 31/31 [00:00<00:00, 49.76it/s]\n"
     ]
    },
    {
     "name": "stdout",
     "output_type": "stream",
     "text": [
      "Validation Loss 31.391748428344727\n",
      "Validation Accuracy 72.28%\n",
      "Epoch 16\n"
     ]
    },
    {
     "name": "stderr",
     "output_type": "stream",
     "text": [
      "100%|██████████| 218/218 [00:06<00:00, 33.23it/s]\n"
     ]
    },
    {
     "name": "stdout",
     "output_type": "stream",
     "text": [
      "Train Loss 213.32147216796875\n",
      "Train Accuracy 76.15%\n"
     ]
    },
    {
     "name": "stderr",
     "output_type": "stream",
     "text": [
      "100%|██████████| 31/31 [00:00<00:00, 50.54it/s]\n"
     ]
    },
    {
     "name": "stdout",
     "output_type": "stream",
     "text": [
      "Validation Loss 30.863323211669922\n",
      "Validation Accuracy 74.40%\n",
      "Epoch 17\n"
     ]
    },
    {
     "name": "stderr",
     "output_type": "stream",
     "text": [
      "100%|██████████| 218/218 [00:06<00:00, 33.11it/s]\n"
     ]
    },
    {
     "name": "stdout",
     "output_type": "stream",
     "text": [
      "Train Loss 210.1697540283203\n",
      "Train Accuracy 77.57%\n"
     ]
    },
    {
     "name": "stderr",
     "output_type": "stream",
     "text": [
      "100%|██████████| 31/31 [00:00<00:00, 50.59it/s]\n"
     ]
    },
    {
     "name": "stdout",
     "output_type": "stream",
     "text": [
      "Validation Loss 31.084442138671875\n",
      "Validation Accuracy 73.39%\n",
      "Epoch 18\n"
     ]
    },
    {
     "name": "stderr",
     "output_type": "stream",
     "text": [
      "100%|██████████| 218/218 [00:06<00:00, 33.28it/s]\n"
     ]
    },
    {
     "name": "stdout",
     "output_type": "stream",
     "text": [
      "Train Loss 207.98141479492188\n",
      "Train Accuracy 78.56%\n"
     ]
    },
    {
     "name": "stderr",
     "output_type": "stream",
     "text": [
      "100%|██████████| 31/31 [00:00<00:00, 50.37it/s]\n"
     ]
    },
    {
     "name": "stdout",
     "output_type": "stream",
     "text": [
      "Validation Loss 31.20626449584961\n",
      "Validation Accuracy 73.29%\n",
      "Epoch 19\n"
     ]
    },
    {
     "name": "stderr",
     "output_type": "stream",
     "text": [
      "100%|██████████| 218/218 [00:06<00:00, 33.21it/s]\n"
     ]
    },
    {
     "name": "stdout",
     "output_type": "stream",
     "text": [
      "Train Loss 205.35693359375\n",
      "Train Accuracy 80.23%\n"
     ]
    },
    {
     "name": "stderr",
     "output_type": "stream",
     "text": [
      "100%|██████████| 31/31 [00:00<00:00, 50.54it/s]\n"
     ]
    },
    {
     "name": "stdout",
     "output_type": "stream",
     "text": [
      "Validation Loss 30.89286231994629\n",
      "Validation Accuracy 73.39%\n",
      "Epoch 20\n"
     ]
    },
    {
     "name": "stderr",
     "output_type": "stream",
     "text": [
      "100%|██████████| 218/218 [00:06<00:00, 33.16it/s]\n"
     ]
    },
    {
     "name": "stdout",
     "output_type": "stream",
     "text": [
      "Train Loss 203.91851806640625\n",
      "Train Accuracy 80.79%\n"
     ]
    },
    {
     "name": "stderr",
     "output_type": "stream",
     "text": [
      "100%|██████████| 31/31 [00:00<00:00, 50.61it/s]\n"
     ]
    },
    {
     "name": "stdout",
     "output_type": "stream",
     "text": [
      "Validation Loss 31.042085647583008\n",
      "Validation Accuracy 73.39%\n",
      "Epoch 21\n"
     ]
    },
    {
     "name": "stderr",
     "output_type": "stream",
     "text": [
      "100%|██████████| 218/218 [00:06<00:00, 33.09it/s]\n"
     ]
    },
    {
     "name": "stdout",
     "output_type": "stream",
     "text": [
      "Train Loss 200.5277557373047\n",
      "Train Accuracy 82.61%\n"
     ]
    },
    {
     "name": "stderr",
     "output_type": "stream",
     "text": [
      "100%|██████████| 31/31 [00:00<00:00, 49.34it/s]\n"
     ]
    },
    {
     "name": "stdout",
     "output_type": "stream",
     "text": [
      "Validation Loss 30.547197341918945\n",
      "Validation Accuracy 75.20%\n",
      "Epoch 22\n"
     ]
    },
    {
     "name": "stderr",
     "output_type": "stream",
     "text": [
      "100%|██████████| 218/218 [00:06<00:00, 33.18it/s]\n"
     ]
    },
    {
     "name": "stdout",
     "output_type": "stream",
     "text": [
      "Train Loss 199.1833038330078\n",
      "Train Accuracy 83.13%\n"
     ]
    },
    {
     "name": "stderr",
     "output_type": "stream",
     "text": [
      "100%|██████████| 31/31 [00:00<00:00, 50.65it/s]\n"
     ]
    },
    {
     "name": "stdout",
     "output_type": "stream",
     "text": [
      "Best Model Saved!\n",
      "Validation Loss 30.603546142578125\n",
      "Validation Accuracy 75.60%\n",
      "Epoch 23\n"
     ]
    },
    {
     "name": "stderr",
     "output_type": "stream",
     "text": [
      "100%|██████████| 218/218 [00:06<00:00, 33.16it/s]\n"
     ]
    },
    {
     "name": "stdout",
     "output_type": "stream",
     "text": [
      "Train Loss 196.69041442871094\n",
      "Train Accuracy 84.35%\n"
     ]
    },
    {
     "name": "stderr",
     "output_type": "stream",
     "text": [
      "100%|██████████| 31/31 [00:00<00:00, 50.68it/s]\n"
     ]
    },
    {
     "name": "stdout",
     "output_type": "stream",
     "text": [
      "Validation Loss 30.7111873626709\n",
      "Validation Accuracy 75.40%\n",
      "Epoch 24\n"
     ]
    },
    {
     "name": "stderr",
     "output_type": "stream",
     "text": [
      "100%|██████████| 218/218 [00:06<00:00, 33.21it/s]\n"
     ]
    },
    {
     "name": "stdout",
     "output_type": "stream",
     "text": [
      "Train Loss 196.47702026367188\n",
      "Train Accuracy 84.26%\n"
     ]
    },
    {
     "name": "stderr",
     "output_type": "stream",
     "text": [
      "100%|██████████| 31/31 [00:00<00:00, 50.37it/s]\n"
     ]
    },
    {
     "name": "stdout",
     "output_type": "stream",
     "text": [
      "Validation Loss 30.542091369628906\n",
      "Validation Accuracy 75.50%\n",
      "Epoch 25\n"
     ]
    },
    {
     "name": "stderr",
     "output_type": "stream",
     "text": [
      "100%|██████████| 218/218 [00:06<00:00, 33.30it/s]\n"
     ]
    },
    {
     "name": "stdout",
     "output_type": "stream",
     "text": [
      "Train Loss 193.81954956054688\n",
      "Train Accuracy 85.55%\n"
     ]
    },
    {
     "name": "stderr",
     "output_type": "stream",
     "text": [
      "100%|██████████| 31/31 [00:00<00:00, 49.42it/s]\n"
     ]
    },
    {
     "name": "stdout",
     "output_type": "stream",
     "text": [
      "Validation Loss 30.662864685058594\n",
      "Validation Accuracy 75.10%\n",
      "Epoch 26\n"
     ]
    },
    {
     "name": "stderr",
     "output_type": "stream",
     "text": [
      "100%|██████████| 218/218 [00:06<00:00, 33.07it/s]\n"
     ]
    },
    {
     "name": "stdout",
     "output_type": "stream",
     "text": [
      "Train Loss 190.60670471191406\n",
      "Train Accuracy 87.20%\n"
     ]
    },
    {
     "name": "stderr",
     "output_type": "stream",
     "text": [
      "100%|██████████| 31/31 [00:00<00:00, 50.62it/s]\n"
     ]
    },
    {
     "name": "stdout",
     "output_type": "stream",
     "text": [
      "Validation Loss 30.7091064453125\n",
      "Validation Accuracy 74.90%\n",
      "Epoch 27\n"
     ]
    },
    {
     "name": "stderr",
     "output_type": "stream",
     "text": [
      "100%|██████████| 218/218 [00:06<00:00, 33.13it/s]\n"
     ]
    },
    {
     "name": "stdout",
     "output_type": "stream",
     "text": [
      "Train Loss 189.1560516357422\n",
      "Train Accuracy 87.96%\n"
     ]
    },
    {
     "name": "stderr",
     "output_type": "stream",
     "text": [
      "100%|██████████| 31/31 [00:00<00:00, 50.30it/s]\n"
     ]
    },
    {
     "name": "stdout",
     "output_type": "stream",
     "text": [
      "Best Model Saved!\n",
      "Validation Loss 30.46815299987793\n",
      "Validation Accuracy 75.81%\n",
      "Epoch 28\n"
     ]
    },
    {
     "name": "stderr",
     "output_type": "stream",
     "text": [
      "100%|██████████| 218/218 [00:06<00:00, 33.09it/s]\n"
     ]
    },
    {
     "name": "stdout",
     "output_type": "stream",
     "text": [
      "Train Loss 187.80780029296875\n",
      "Train Accuracy 88.23%\n"
     ]
    },
    {
     "name": "stderr",
     "output_type": "stream",
     "text": [
      "100%|██████████| 31/31 [00:00<00:00, 50.54it/s]\n"
     ]
    },
    {
     "name": "stdout",
     "output_type": "stream",
     "text": [
      "Validation Loss 30.467727661132812\n",
      "Validation Accuracy 75.10%\n",
      "Epoch 29\n"
     ]
    },
    {
     "name": "stderr",
     "output_type": "stream",
     "text": [
      "100%|██████████| 218/218 [00:06<00:00, 33.16it/s]\n"
     ]
    },
    {
     "name": "stdout",
     "output_type": "stream",
     "text": [
      "Train Loss 186.04962158203125\n",
      "Train Accuracy 89.12%\n"
     ]
    },
    {
     "name": "stderr",
     "output_type": "stream",
     "text": [
      "100%|██████████| 31/31 [00:00<00:00, 50.79it/s]\n"
     ]
    },
    {
     "name": "stdout",
     "output_type": "stream",
     "text": [
      "Validation Loss 30.461942672729492\n",
      "Validation Accuracy 75.30%\n",
      "Epoch 30\n"
     ]
    },
    {
     "name": "stderr",
     "output_type": "stream",
     "text": [
      "100%|██████████| 218/218 [00:06<00:00, 33.15it/s]\n"
     ]
    },
    {
     "name": "stdout",
     "output_type": "stream",
     "text": [
      "Train Loss 184.94729614257812\n",
      "Train Accuracy 89.76%\n"
     ]
    },
    {
     "name": "stderr",
     "output_type": "stream",
     "text": [
      "100%|██████████| 31/31 [00:00<00:00, 50.51it/s]\n"
     ]
    },
    {
     "name": "stdout",
     "output_type": "stream",
     "text": [
      "Best Model Saved!\n",
      "Validation Loss 30.167552947998047\n",
      "Validation Accuracy 76.61%\n",
      "Epoch 31\n"
     ]
    },
    {
     "name": "stderr",
     "output_type": "stream",
     "text": [
      "100%|██████████| 218/218 [00:06<00:00, 33.17it/s]\n"
     ]
    },
    {
     "name": "stdout",
     "output_type": "stream",
     "text": [
      "Train Loss 184.00949096679688\n",
      "Train Accuracy 90.25%\n"
     ]
    },
    {
     "name": "stderr",
     "output_type": "stream",
     "text": [
      "100%|██████████| 31/31 [00:00<00:00, 50.55it/s]\n"
     ]
    },
    {
     "name": "stdout",
     "output_type": "stream",
     "text": [
      "Validation Loss 30.495460510253906\n",
      "Validation Accuracy 75.10%\n",
      "Epoch 32\n"
     ]
    },
    {
     "name": "stderr",
     "output_type": "stream",
     "text": [
      "100%|██████████| 218/218 [00:06<00:00, 33.14it/s]\n"
     ]
    },
    {
     "name": "stdout",
     "output_type": "stream",
     "text": [
      "Train Loss 182.4943084716797\n",
      "Train Accuracy 90.95%\n"
     ]
    },
    {
     "name": "stderr",
     "output_type": "stream",
     "text": [
      "100%|██████████| 31/31 [00:00<00:00, 48.87it/s]\n"
     ]
    },
    {
     "name": "stdout",
     "output_type": "stream",
     "text": [
      "Validation Loss 30.482421875\n",
      "Validation Accuracy 75.81%\n",
      "Epoch 33\n"
     ]
    },
    {
     "name": "stderr",
     "output_type": "stream",
     "text": [
      "100%|██████████| 218/218 [00:06<00:00, 33.06it/s]\n"
     ]
    },
    {
     "name": "stdout",
     "output_type": "stream",
     "text": [
      "Train Loss 182.16651916503906\n",
      "Train Accuracy 90.98%\n"
     ]
    },
    {
     "name": "stderr",
     "output_type": "stream",
     "text": [
      "100%|██████████| 31/31 [00:00<00:00, 50.87it/s]\n"
     ]
    },
    {
     "name": "stdout",
     "output_type": "stream",
     "text": [
      "Best Model Saved!\n",
      "Validation Loss 29.918231964111328\n",
      "Validation Accuracy 77.62%\n",
      "Epoch 34\n"
     ]
    },
    {
     "name": "stderr",
     "output_type": "stream",
     "text": [
      "100%|██████████| 218/218 [00:06<00:00, 32.95it/s]\n"
     ]
    },
    {
     "name": "stdout",
     "output_type": "stream",
     "text": [
      "Train Loss 180.88990783691406\n",
      "Train Accuracy 91.64%\n"
     ]
    },
    {
     "name": "stderr",
     "output_type": "stream",
     "text": [
      "100%|██████████| 31/31 [00:00<00:00, 49.10it/s]\n"
     ]
    },
    {
     "name": "stdout",
     "output_type": "stream",
     "text": [
      "Validation Loss 30.250961303710938\n",
      "Validation Accuracy 76.11%\n",
      "Epoch 35\n"
     ]
    },
    {
     "name": "stderr",
     "output_type": "stream",
     "text": [
      "100%|██████████| 218/218 [00:06<00:00, 32.98it/s]\n"
     ]
    },
    {
     "name": "stdout",
     "output_type": "stream",
     "text": [
      "Train Loss 180.93235778808594\n",
      "Train Accuracy 91.46%\n"
     ]
    },
    {
     "name": "stderr",
     "output_type": "stream",
     "text": [
      "100%|██████████| 31/31 [00:00<00:00, 50.96it/s]\n"
     ]
    },
    {
     "name": "stdout",
     "output_type": "stream",
     "text": [
      "Validation Loss 30.400022506713867\n",
      "Validation Accuracy 75.91%\n",
      "Epoch 36\n"
     ]
    },
    {
     "name": "stderr",
     "output_type": "stream",
     "text": [
      "100%|██████████| 218/218 [00:06<00:00, 33.14it/s]\n"
     ]
    },
    {
     "name": "stdout",
     "output_type": "stream",
     "text": [
      "Train Loss 180.02593994140625\n",
      "Train Accuracy 92.00%\n"
     ]
    },
    {
     "name": "stderr",
     "output_type": "stream",
     "text": [
      "100%|██████████| 31/31 [00:00<00:00, 50.43it/s]\n"
     ]
    },
    {
     "name": "stdout",
     "output_type": "stream",
     "text": [
      "Validation Loss 30.757389068603516\n",
      "Validation Accuracy 74.09%\n",
      "Epoch 37\n"
     ]
    },
    {
     "name": "stderr",
     "output_type": "stream",
     "text": [
      "100%|██████████| 218/218 [00:06<00:00, 33.06it/s]\n"
     ]
    },
    {
     "name": "stdout",
     "output_type": "stream",
     "text": [
      "Train Loss 179.24571228027344\n",
      "Train Accuracy 92.39%\n"
     ]
    },
    {
     "name": "stderr",
     "output_type": "stream",
     "text": [
      "100%|██████████| 31/31 [00:00<00:00, 50.05it/s]\n"
     ]
    },
    {
     "name": "stdout",
     "output_type": "stream",
     "text": [
      "Validation Loss 30.629011154174805\n",
      "Validation Accuracy 74.90%\n",
      "Epoch 38\n"
     ]
    },
    {
     "name": "stderr",
     "output_type": "stream",
     "text": [
      "100%|██████████| 218/218 [00:06<00:00, 33.11it/s]\n"
     ]
    },
    {
     "name": "stdout",
     "output_type": "stream",
     "text": [
      "Train Loss 178.6400909423828\n",
      "Train Accuracy 92.57%\n"
     ]
    },
    {
     "name": "stderr",
     "output_type": "stream",
     "text": [
      "100%|██████████| 31/31 [00:00<00:00, 49.93it/s]\n"
     ]
    },
    {
     "name": "stdout",
     "output_type": "stream",
     "text": [
      "Validation Loss 30.30038833618164\n",
      "Validation Accuracy 75.60%\n",
      "Epoch 39\n"
     ]
    },
    {
     "name": "stderr",
     "output_type": "stream",
     "text": [
      "100%|██████████| 218/218 [00:06<00:00, 33.18it/s]\n"
     ]
    },
    {
     "name": "stdout",
     "output_type": "stream",
     "text": [
      "Train Loss 178.04803466796875\n",
      "Train Accuracy 92.85%\n"
     ]
    },
    {
     "name": "stderr",
     "output_type": "stream",
     "text": [
      "100%|██████████| 31/31 [00:00<00:00, 50.62it/s]\n"
     ]
    },
    {
     "name": "stdout",
     "output_type": "stream",
     "text": [
      "Validation Loss 30.38765525817871\n",
      "Validation Accuracy 75.91%\n",
      "Epoch 40\n"
     ]
    },
    {
     "name": "stderr",
     "output_type": "stream",
     "text": [
      "100%|██████████| 218/218 [00:06<00:00, 32.94it/s]\n"
     ]
    },
    {
     "name": "stdout",
     "output_type": "stream",
     "text": [
      "Train Loss 177.9086151123047\n",
      "Train Accuracy 92.92%\n"
     ]
    },
    {
     "name": "stderr",
     "output_type": "stream",
     "text": [
      "100%|██████████| 31/31 [00:00<00:00, 50.46it/s]\n"
     ]
    },
    {
     "name": "stdout",
     "output_type": "stream",
     "text": [
      "Validation Loss 30.009870529174805\n",
      "Validation Accuracy 76.92%\n",
      "Epoch 41\n"
     ]
    },
    {
     "name": "stderr",
     "output_type": "stream",
     "text": [
      "100%|██████████| 218/218 [00:06<00:00, 33.06it/s]\n"
     ]
    },
    {
     "name": "stdout",
     "output_type": "stream",
     "text": [
      "Train Loss 177.00941467285156\n",
      "Train Accuracy 93.22%\n"
     ]
    },
    {
     "name": "stderr",
     "output_type": "stream",
     "text": [
      "100%|██████████| 31/31 [00:00<00:00, 50.30it/s]\n"
     ]
    },
    {
     "name": "stdout",
     "output_type": "stream",
     "text": [
      "Validation Loss 30.128374099731445\n",
      "Validation Accuracy 76.51%\n",
      "Epoch 42\n"
     ]
    },
    {
     "name": "stderr",
     "output_type": "stream",
     "text": [
      "100%|██████████| 218/218 [00:06<00:00, 32.97it/s]\n"
     ]
    },
    {
     "name": "stdout",
     "output_type": "stream",
     "text": [
      "Train Loss 176.8450469970703\n",
      "Train Accuracy 93.39%\n"
     ]
    },
    {
     "name": "stderr",
     "output_type": "stream",
     "text": [
      "100%|██████████| 31/31 [00:00<00:00, 49.57it/s]\n"
     ]
    },
    {
     "name": "stdout",
     "output_type": "stream",
     "text": [
      "Validation Loss 30.60763168334961\n",
      "Validation Accuracy 75.30%\n",
      "Epoch 43\n"
     ]
    },
    {
     "name": "stderr",
     "output_type": "stream",
     "text": [
      "100%|██████████| 218/218 [00:06<00:00, 33.09it/s]\n"
     ]
    },
    {
     "name": "stdout",
     "output_type": "stream",
     "text": [
      "Train Loss 177.52102661132812\n",
      "Train Accuracy 93.09%\n"
     ]
    },
    {
     "name": "stderr",
     "output_type": "stream",
     "text": [
      "100%|██████████| 31/31 [00:00<00:00, 50.21it/s]\n"
     ]
    },
    {
     "name": "stdout",
     "output_type": "stream",
     "text": [
      "Validation Loss 30.754749298095703\n",
      "Validation Accuracy 74.29%\n",
      "Epoch 44\n"
     ]
    },
    {
     "name": "stderr",
     "output_type": "stream",
     "text": [
      "100%|██████████| 218/218 [00:06<00:00, 33.11it/s]\n"
     ]
    },
    {
     "name": "stdout",
     "output_type": "stream",
     "text": [
      "Train Loss 175.95974731445312\n",
      "Train Accuracy 93.82%\n"
     ]
    },
    {
     "name": "stderr",
     "output_type": "stream",
     "text": [
      "100%|██████████| 31/31 [00:00<00:00, 50.53it/s]\n"
     ]
    },
    {
     "name": "stdout",
     "output_type": "stream",
     "text": [
      "Validation Loss 30.41678237915039\n",
      "Validation Accuracy 75.40%\n",
      "Epoch 45\n"
     ]
    },
    {
     "name": "stderr",
     "output_type": "stream",
     "text": [
      "100%|██████████| 218/218 [00:06<00:00, 33.21it/s]\n"
     ]
    },
    {
     "name": "stdout",
     "output_type": "stream",
     "text": [
      "Train Loss 175.32876586914062\n",
      "Train Accuracy 94.04%\n"
     ]
    },
    {
     "name": "stderr",
     "output_type": "stream",
     "text": [
      "100%|██████████| 31/31 [00:00<00:00, 49.76it/s]\n"
     ]
    },
    {
     "name": "stdout",
     "output_type": "stream",
     "text": [
      "Validation Loss 30.297090530395508\n",
      "Validation Accuracy 76.31%\n",
      "Epoch 46\n"
     ]
    },
    {
     "name": "stderr",
     "output_type": "stream",
     "text": [
      "100%|██████████| 218/218 [00:06<00:00, 33.18it/s]\n"
     ]
    },
    {
     "name": "stdout",
     "output_type": "stream",
     "text": [
      "Train Loss 175.03700256347656\n",
      "Train Accuracy 94.15%\n"
     ]
    },
    {
     "name": "stderr",
     "output_type": "stream",
     "text": [
      "100%|██████████| 31/31 [00:00<00:00, 50.87it/s]\n"
     ]
    },
    {
     "name": "stdout",
     "output_type": "stream",
     "text": [
      "Validation Loss 30.477760314941406\n",
      "Validation Accuracy 75.71%\n",
      "Epoch 47\n"
     ]
    },
    {
     "name": "stderr",
     "output_type": "stream",
     "text": [
      "100%|██████████| 218/218 [00:06<00:00, 33.21it/s]\n"
     ]
    },
    {
     "name": "stdout",
     "output_type": "stream",
     "text": [
      "Train Loss 175.08193969726562\n",
      "Train Accuracy 94.21%\n"
     ]
    },
    {
     "name": "stderr",
     "output_type": "stream",
     "text": [
      "100%|██████████| 31/31 [00:00<00:00, 50.74it/s]\n"
     ]
    },
    {
     "name": "stdout",
     "output_type": "stream",
     "text": [
      "Validation Loss 30.50608253479004\n",
      "Validation Accuracy 75.71%\n",
      "Epoch 48\n"
     ]
    },
    {
     "name": "stderr",
     "output_type": "stream",
     "text": [
      "100%|██████████| 218/218 [00:06<00:00, 33.14it/s]\n"
     ]
    },
    {
     "name": "stdout",
     "output_type": "stream",
     "text": [
      "Train Loss 174.57479858398438\n",
      "Train Accuracy 94.38%\n"
     ]
    },
    {
     "name": "stderr",
     "output_type": "stream",
     "text": [
      "100%|██████████| 31/31 [00:00<00:00, 50.21it/s]\n"
     ]
    },
    {
     "name": "stdout",
     "output_type": "stream",
     "text": [
      "Validation Loss 30.16799545288086\n",
      "Validation Accuracy 76.92%\n",
      "Epoch 49\n"
     ]
    },
    {
     "name": "stderr",
     "output_type": "stream",
     "text": [
      "100%|██████████| 218/218 [00:06<00:00, 33.24it/s]\n"
     ]
    },
    {
     "name": "stdout",
     "output_type": "stream",
     "text": [
      "Train Loss 174.39797973632812\n",
      "Train Accuracy 94.41%\n"
     ]
    },
    {
     "name": "stderr",
     "output_type": "stream",
     "text": [
      "100%|██████████| 31/31 [00:00<00:00, 50.05it/s]\n"
     ]
    },
    {
     "name": "stdout",
     "output_type": "stream",
     "text": [
      "Validation Loss 30.19173240661621\n",
      "Validation Accuracy 76.51%\n",
      "Epoch 50\n"
     ]
    },
    {
     "name": "stderr",
     "output_type": "stream",
     "text": [
      "100%|██████████| 218/218 [00:06<00:00, 33.02it/s]\n"
     ]
    },
    {
     "name": "stdout",
     "output_type": "stream",
     "text": [
      "Train Loss 174.5202178955078\n",
      "Train Accuracy 94.42%\n"
     ]
    },
    {
     "name": "stderr",
     "output_type": "stream",
     "text": [
      "100%|██████████| 31/31 [00:00<00:00, 50.10it/s]"
     ]
    },
    {
     "name": "stdout",
     "output_type": "stream",
     "text": [
      "Validation Loss 30.324405670166016\n",
      "Validation Accuracy 76.31%\n"
     ]
    },
    {
     "name": "stderr",
     "output_type": "stream",
     "text": [
      "\n"
     ]
    }
   ],
   "source": [
    "# HINT: note that your training time should not take more than 2 hours.\n",
    "def accuracy(target, output):\n",
    "  accurate = 0\n",
    "  for i in range(target.shape[0]):\n",
    "    if torch.argmax(target[i]) == output[i]:\n",
    "      accurate += 1\n",
    "  return accurate\n",
    "\n",
    "# TODO:\n",
    "# Pick your hyper parameters\n",
    "max_epoch = 50\n",
    "train_batch = 32\n",
    "test_batch = 32\n",
    "learning_rate = 1e-1\n",
    "\n",
    "use_gpu = torch.cuda.is_available()\n",
    "device = torch.device(\"cuda\" if use_gpu else \"cpu\")\n",
    "\n",
    "# Create train dataset loader\n",
    "# Create validation dataset loader\n",
    "# Create test dataset loader\n",
    "train_dataset, val_dataset, test_dataset = get_dataset(root)\n",
    "train_loader = DataLoader(dataset=train_dataset, batch_size=train_batch, shuffle=True, drop_last=True)\n",
    "val_loader = DataLoader(dataset=val_dataset, batch_size=train_batch, shuffle=True, drop_last=True)\n",
    "test_loader = DataLoader(dataset=test_dataset, batch_size=test_batch, shuffle=False, drop_last=True)\n",
    "# initialize your network\n",
    "model = ConvNet()\n",
    "model = model.to(device)\n",
    "\n",
    "# define your loss function\n",
    "loss_fuc = nn.CrossEntropyLoss()\n",
    "optimizer = torch.optim.SGD(model.parameters(), lr=learning_rate, weight_decay=5e-04) # you can play with weight_decay as well but do not add additional parameters\n",
    "    \n",
    "# start training\n",
    "# for each epoch calculate validation performance\n",
    "# save best model according to validation performance\n",
    "last_val_acc = None\n",
    "train_losses = []\n",
    "val_losses = []\n",
    "train_accuracies = []\n",
    "val_accuracies = []\n",
    "for epoch in range(max_epoch):\n",
    "    train_accurate = 0\n",
    "    val_accurate = 0\n",
    "    print(f\"Epoch {epoch + 1}\")\n",
    "    model=model.train()\n",
    "    train_loss = 0\n",
    "    val_loss = 0\n",
    "    train_idx = 0\n",
    "    #    iterate over training batches\n",
    "    for x,y in tqdm(train_loader):\n",
    "      train_idx += 1\n",
    "      x = x.to(device)\n",
    "      y = y.to(device)\n",
    "\n",
    "      optimizer.zero_grad()\n",
    "      output = model(x)\n",
    "      batch_loss = loss_fuc(output, y)\n",
    "      train_loss += batch_loss\n",
    "      train_accurate += accuracy(output, y)\n",
    "\n",
    "      batch_loss.backward()\n",
    "      optimizer.step()\n",
    "    train_accuracy = train_accurate / (train_idx * train_batch)\n",
    "    print(f\"Train Loss {train_loss}\")\n",
    "    print(\"Train Accuracy {:.2f}%\".format(train_accuracy * 100))\n",
    "    train_accuracies.append(train_accuracy)\n",
    "    train_losses.append(train_loss)\n",
    "    # #    Validation\n",
    "    model = model.eval()\n",
    "    with torch.no_grad():\n",
    "    #     iterate over validation batches\n",
    "      val_idx = 0\n",
    "      for x,y in tqdm(val_loader):\n",
    "        val_idx += 1\n",
    "        x = x.to(device)\n",
    "        y = y.to(device)\n",
    "\n",
    "        output = model(x)\n",
    "        batch_loss = loss_fuc(output, y)\n",
    "        val_loss += batch_loss\n",
    "        val_accurate += accuracy(output, y)\n",
    "      val_accuracy = val_accurate / (val_idx * train_batch)\n",
    "      if last_val_acc == None or val_accuracy > last_val_acc:\n",
    "        last_val_acc = val_accuracy\n",
    "        torch.save(model, \"~/CS464_Fall21_HW3/best_cnn_sgd.pth\")\n",
    "        print(\"Best Model Saved!\")\n",
    "      print(f\"Validation Loss {val_loss}\")\n",
    "      print(\"Validation Accuracy {:.2f}%\".format(val_accuracy * 100))\n",
    "      val_accuracies.append(val_accuracy)\n",
    "      val_losses.append(val_loss)\n",
    "\n"
   ]
  },
  {
   "cell_type": "code",
   "execution_count": 26,
   "metadata": {
    "id": "6mFU3J0PSGgc"
   },
   "outputs": [
    {
     "data": {
      "image/png": "[encoded data removed]",
      "text/plain": [
       "<Figure size 432x288 with 2 Axes>"
      ]
     },
     "metadata": {
      "needs_background": "light"
     },
     "output_type": "display_data"
    },
    {
     "data": {
      "image/png": "[encoded data removed]",
      "text/plain": [
       "<Figure size 432x288 with 2 Axes>"
      ]
     },
     "metadata": {
      "needs_background": "light"
     },
     "output_type": "display_data"
    }
   ],
   "source": [
    "# Train\n",
    "plt.subplot(1,2,1)\n",
    "plt.plot(train_losses)\n",
    "plt.xlabel(\"Epochs\")\n",
    "plt.ylabel(\"Train Loss\")\n",
    "plt.title(\"Train Loss Plot\")\n",
    "plt.subplot(1,2,2)\n",
    "plt.plot(train_accuracies)\n",
    "plt.xlabel(\"Epochs\")\n",
    "plt.ylabel(\"Train Accuracy\")\n",
    "plt.title(\"Train Accuracy Plot\")\n",
    "plt.show()\n",
    "\n",
    "# Validation\n",
    "plt.subplot(1,2,1)\n",
    "plt.plot(val_losses)\n",
    "plt.xlabel(\"Epochs\")\n",
    "plt.ylabel(\"Validation Loss\")\n",
    "plt.title(\"Validation Loss Plot\")\n",
    "plt.subplot(1,2,2)\n",
    "plt.plot(val_accuracies)\n",
    "plt.xlabel(\"Epochs\")\n",
    "plt.ylabel(\"Validation Accuracy\")\n",
    "plt.title(\"Validation Accuracy Plot\")\n",
    "plt.show()"
   ]
  },
  {
   "cell_type": "markdown",
   "metadata": {
    "id": "bGlkTe9e-VLO"
   },
   "source": [
    "####Test with SGD [10 pts.]\n",
    "\n",
    "Report the following for your best model on your test set which has not been seen by the model yet.\n",
    "1. A heatmap for confusion matrix\n",
    "2. Accuracy\n",
    "3. Macro Precision\n",
    "4. Macro Recall\n",
    "5. F1 Score"
   ]
  },
  {
   "cell_type": "code",
   "execution_count": 40,
   "metadata": {
    "id": "LNc_qjAECN9V"
   },
   "outputs": [
    {
     "name": "stderr",
     "output_type": "stream",
     "text": [
      "100%|██████████| 62/62 [00:01<00:00, 56.16it/s]\n"
     ]
    },
    {
     "name": "stdout",
     "output_type": "stream",
     "text": [
      "Mean Loss: tensor(0.9968, device='cuda:0') \n",
      "Mean Acc: 0.7394153225806451 \n",
      "Mean Macro Precision: 0.7363813172235233 \n",
      "Mean Macro Recall: 0.7379441051352595 \n",
      "Mean Macro F1 Score: 0.7354736519542935\n"
     ]
    },
    {
     "data": {
      "image/png": "[encoded data removed]",
      "text/plain": [
       "<Figure size 432x288 with 1 Axes>"
      ]
     },
     "metadata": {
      "needs_background": "light"
     },
     "output_type": "display_data"
    }
   ],
   "source": [
    "# Test CNN\n",
    "# load best model\n",
    "best_path = \"~/CS464_Fall21_HW3/best_cnn_sgd.pth\"\n",
    "model = torch.load(best_path)\n",
    "\n",
    "# evaluate on test set\n",
    "model = model.eval()\n",
    "with torch.no_grad():\n",
    "# iterate over test batches\n",
    "  test_idx = 0\n",
    "  y_true = None\n",
    "  y_pred = None\n",
    "  test_loss = 0\n",
    "  for x,y in tqdm(test_loader):\n",
    "    test_idx += 1\n",
    "    x = x.to(device)\n",
    "    y = y.to(device)\n",
    "\n",
    "    output = model(x)\n",
    "    batch_loss = loss_fuc(output, y)\n",
    "    test_loss += batch_loss\n",
    "    if test_idx == 1:\n",
    "      y_true = y.cpu().numpy()\n",
    "      y_pred = np.argmax(output.cpu().numpy(), axis=-1)\n",
    "    else:\n",
    "      y_true = np.concatenate((y_true, y.cpu().numpy()), axis=-1)\n",
    "      y_pred = np.concatenate((y_pred, np.argmax(output.cpu().numpy(), axis=-1)), axis=-1)\n",
    "\n",
    "  losses = test_loss / test_idx\n",
    "#   get confusion matrix\n",
    "conf_matrix = confusion_matrix(y_true, y_pred)\n",
    "#   calculate accuracy\n",
    "acc = accuracy_score(y_true, y_pred)\n",
    "#   calculate precision\n",
    "pre = precision_score(y_true, y_pred, average='macro')\n",
    "#   calculate recall\n",
    "recall = recall_score(y_true, y_pred, average='macro')\n",
    "#   calculate F1 score\n",
    "f1 = f1_score(y_true, y_pred, average='macro')\n",
    "\n",
    "# print metrics\n",
    "print(\"Mean Loss:\", losses, \"\\nMean Acc:\", acc,\"\\nMean Macro Precision:\", pre, \"\\nMean Macro Recall:\", recall, \"\\nMean Macro F1 Score:\", f1) \n",
    "\n",
    "# plot confusion matrix\n",
    "fig, ax = plt.subplots()\n",
    "im = ax.imshow(conf_matrix)\n",
    "# We want to show all ticks...\n",
    "ax.set_xticks(np.arange(4))\n",
    "ax.set_yticks(np.arange(4))\n",
    "\n",
    "fig.tight_layout()\n",
    "plt.show()"
   ]
  },
  {
   "cell_type": "markdown",
   "metadata": {
    "id": "N3L2zjEN_tZf"
   },
   "source": [
    "###Adam Optimizer [25 pts.]\n",
    "\n",
    "Adam is an adaptive learning rate optimization algorithm that has been designed specifically for training deep neural networks. It was presented by Diederik Kingma from OpenAI and Jimmy Ba from the University of Toronto in their 2015 ICLR paper (poster) titled “Adam: A Method for Stochastic Optimization“.\n",
    "\n",
    "Nowadays, most of machine learning frameworks, including tensorflow, Pytorch, and Keras, choose Adam as the default optimizer. In this question, you will experiment with it and try to understand why it replaced SGD as the default optimizer."
   ]
  },
  {
   "cell_type": "markdown",
   "metadata": {
    "id": "jOQ75RHP-Fdn"
   },
   "source": [
    "####Training with ADAM [15 pts.]\n",
    "\n",
    "Train your model up to 300 epochs with properly processed inputs, i.e. call your \"get_dataset\". This time use Adam Optimizer as your optimizer. Tune your learning rate, weight decay. Save your best model as \"best_cnn_adam.pth\". The best model should be selected based on validation dataset. You could use any measurement and/or metric to decide on the best model for each network. However, you must explain your reasoning in your choice.\n",
    "\n",
    "During training, you need to plot:\n",
    "1. training loss and validation loss vs. epoch\n",
    "2. training accuracy and validation accuracy vs. epoch <br>\n",
    "\n",
    "Name your axes and plots properly."
   ]
  },
  {
   "cell_type": "code",
   "execution_count": 41,
   "metadata": {
    "colab": {
     "base_uri": "https://localhost:8080/"
    },
    "id": "3fr4WUpQCO5s",
    "outputId": "a7d846d9-1b73-4391-975e-90354fac4a1b"
   },
   "outputs": [
    {
     "name": "stdout",
     "output_type": "stream",
     "text": [
      "Epoch 1\n"
     ]
    },
    {
     "name": "stderr",
     "output_type": "stream",
     "text": [
      "100%|██████████| 218/218 [00:07<00:00, 30.97it/s]\n"
     ]
    },
    {
     "name": "stdout",
     "output_type": "stream",
     "text": [
      "Train Loss 243.6742401123047\n",
      "Train Accuracy 61.01%\n"
     ]
    },
    {
     "name": "stderr",
     "output_type": "stream",
     "text": [
      "100%|██████████| 31/31 [00:00<00:00, 50.77it/s]\n"
     ]
    },
    {
     "name": "stdout",
     "output_type": "stream",
     "text": [
      "Best Model Saved!\n",
      "Validation Loss 32.13557815551758\n",
      "Validation Accuracy 70.16%\n",
      "Epoch 2\n"
     ]
    },
    {
     "name": "stderr",
     "output_type": "stream",
     "text": [
      "100%|██████████| 218/218 [00:06<00:00, 31.91it/s]\n"
     ]
    },
    {
     "name": "stdout",
     "output_type": "stream",
     "text": [
      "Train Loss 228.3968963623047\n",
      "Train Accuracy 69.22%\n"
     ]
    },
    {
     "name": "stderr",
     "output_type": "stream",
     "text": [
      "100%|██████████| 31/31 [00:00<00:00, 49.24it/s]\n"
     ]
    },
    {
     "name": "stdout",
     "output_type": "stream",
     "text": [
      "Validation Loss 32.40306091308594\n",
      "Validation Accuracy 69.56%\n",
      "Epoch 3\n"
     ]
    },
    {
     "name": "stderr",
     "output_type": "stream",
     "text": [
      "100%|██████████| 218/218 [00:06<00:00, 31.84it/s]\n"
     ]
    },
    {
     "name": "stdout",
     "output_type": "stream",
     "text": [
      "Train Loss 227.12216186523438\n",
      "Train Accuracy 69.85%\n"
     ]
    },
    {
     "name": "stderr",
     "output_type": "stream",
     "text": [
      "100%|██████████| 31/31 [00:00<00:00, 49.74it/s]\n"
     ]
    },
    {
     "name": "stdout",
     "output_type": "stream",
     "text": [
      "Best Model Saved!\n",
      "Validation Loss 31.206344604492188\n",
      "Validation Accuracy 73.59%\n",
      "Epoch 4\n"
     ]
    },
    {
     "name": "stderr",
     "output_type": "stream",
     "text": [
      "100%|██████████| 218/218 [00:06<00:00, 31.82it/s]\n"
     ]
    },
    {
     "name": "stdout",
     "output_type": "stream",
     "text": [
      "Train Loss 223.662109375\n",
      "Train Accuracy 71.37%\n"
     ]
    },
    {
     "name": "stderr",
     "output_type": "stream",
     "text": [
      "100%|██████████| 31/31 [00:00<00:00, 49.60it/s]\n"
     ]
    },
    {
     "name": "stdout",
     "output_type": "stream",
     "text": [
      "Validation Loss 31.334598541259766\n",
      "Validation Accuracy 72.88%\n",
      "Epoch 5\n"
     ]
    },
    {
     "name": "stderr",
     "output_type": "stream",
     "text": [
      "100%|██████████| 218/218 [00:06<00:00, 31.89it/s]\n"
     ]
    },
    {
     "name": "stdout",
     "output_type": "stream",
     "text": [
      "Train Loss 222.5502166748047\n",
      "Train Accuracy 71.75%\n"
     ]
    },
    {
     "name": "stderr",
     "output_type": "stream",
     "text": [
      "100%|██████████| 31/31 [00:00<00:00, 49.01it/s]\n"
     ]
    },
    {
     "name": "stdout",
     "output_type": "stream",
     "text": [
      "Best Model Saved!\n",
      "Validation Loss 30.74983024597168\n",
      "Validation Accuracy 74.50%\n",
      "Epoch 6\n"
     ]
    },
    {
     "name": "stderr",
     "output_type": "stream",
     "text": [
      "100%|██████████| 218/218 [00:06<00:00, 31.73it/s]\n"
     ]
    },
    {
     "name": "stdout",
     "output_type": "stream",
     "text": [
      "Train Loss 221.3878936767578\n",
      "Train Accuracy 72.29%\n"
     ]
    },
    {
     "name": "stderr",
     "output_type": "stream",
     "text": [
      "100%|██████████| 31/31 [00:00<00:00, 49.75it/s]\n"
     ]
    },
    {
     "name": "stdout",
     "output_type": "stream",
     "text": [
      "Validation Loss 31.527685165405273\n",
      "Validation Accuracy 71.37%\n",
      "Epoch 7\n"
     ]
    },
    {
     "name": "stderr",
     "output_type": "stream",
     "text": [
      "100%|██████████| 218/218 [00:06<00:00, 31.81it/s]\n"
     ]
    },
    {
     "name": "stdout",
     "output_type": "stream",
     "text": [
      "Train Loss 219.2755889892578\n",
      "Train Accuracy 73.44%\n"
     ]
    },
    {
     "name": "stderr",
     "output_type": "stream",
     "text": [
      "100%|██████████| 31/31 [00:00<00:00, 49.89it/s]\n"
     ]
    },
    {
     "name": "stdout",
     "output_type": "stream",
     "text": [
      "Validation Loss 31.157373428344727\n",
      "Validation Accuracy 73.59%\n",
      "Epoch 8\n"
     ]
    },
    {
     "name": "stderr",
     "output_type": "stream",
     "text": [
      "100%|██████████| 218/218 [00:06<00:00, 31.73it/s]\n"
     ]
    },
    {
     "name": "stdout",
     "output_type": "stream",
     "text": [
      "Train Loss 217.4550018310547\n",
      "Train Accuracy 74.25%\n"
     ]
    },
    {
     "name": "stderr",
     "output_type": "stream",
     "text": [
      "100%|██████████| 31/31 [00:00<00:00, 48.99it/s]\n"
     ]
    },
    {
     "name": "stdout",
     "output_type": "stream",
     "text": [
      "Best Model Saved!\n",
      "Validation Loss 30.389802932739258\n",
      "Validation Accuracy 75.91%\n",
      "Epoch 9\n"
     ]
    },
    {
     "name": "stderr",
     "output_type": "stream",
     "text": [
      "100%|██████████| 218/218 [00:06<00:00, 31.84it/s]\n"
     ]
    },
    {
     "name": "stdout",
     "output_type": "stream",
     "text": [
      "Train Loss 215.71885681152344\n",
      "Train Accuracy 74.96%\n"
     ]
    },
    {
     "name": "stderr",
     "output_type": "stream",
     "text": [
      "100%|██████████| 31/31 [00:00<00:00, 49.65it/s]\n"
     ]
    },
    {
     "name": "stdout",
     "output_type": "stream",
     "text": [
      "Validation Loss 30.454635620117188\n",
      "Validation Accuracy 75.60%\n",
      "Epoch 10\n"
     ]
    },
    {
     "name": "stderr",
     "output_type": "stream",
     "text": [
      "100%|██████████| 218/218 [00:06<00:00, 31.83it/s]\n"
     ]
    },
    {
     "name": "stdout",
     "output_type": "stream",
     "text": [
      "Train Loss 216.7080078125\n",
      "Train Accuracy 74.54%\n"
     ]
    },
    {
     "name": "stderr",
     "output_type": "stream",
     "text": [
      "100%|██████████| 31/31 [00:00<00:00, 50.32it/s]\n"
     ]
    },
    {
     "name": "stdout",
     "output_type": "stream",
     "text": [
      "Validation Loss 31.38385772705078\n",
      "Validation Accuracy 72.58%\n",
      "Epoch 11\n"
     ]
    },
    {
     "name": "stderr",
     "output_type": "stream",
     "text": [
      "100%|██████████| 218/218 [00:06<00:00, 31.89it/s]\n"
     ]
    },
    {
     "name": "stdout",
     "output_type": "stream",
     "text": [
      "Train Loss 213.12457275390625\n",
      "Train Accuracy 76.26%\n"
     ]
    },
    {
     "name": "stderr",
     "output_type": "stream",
     "text": [
      "100%|██████████| 31/31 [00:00<00:00, 50.05it/s]\n"
     ]
    },
    {
     "name": "stdout",
     "output_type": "stream",
     "text": [
      "Validation Loss 30.729040145874023\n",
      "Validation Accuracy 74.70%\n",
      "Epoch 12\n"
     ]
    },
    {
     "name": "stderr",
     "output_type": "stream",
     "text": [
      "100%|██████████| 218/218 [00:06<00:00, 31.64it/s]\n"
     ]
    },
    {
     "name": "stdout",
     "output_type": "stream",
     "text": [
      "Train Loss 212.35983276367188\n",
      "Train Accuracy 77.04%\n"
     ]
    },
    {
     "name": "stderr",
     "output_type": "stream",
     "text": [
      "100%|██████████| 31/31 [00:00<00:00, 50.20it/s]\n"
     ]
    },
    {
     "name": "stdout",
     "output_type": "stream",
     "text": [
      "Best Model Saved!\n",
      "Validation Loss 30.365938186645508\n",
      "Validation Accuracy 76.21%\n",
      "Epoch 13\n"
     ]
    },
    {
     "name": "stderr",
     "output_type": "stream",
     "text": [
      "100%|██████████| 218/218 [00:06<00:00, 31.83it/s]\n"
     ]
    },
    {
     "name": "stdout",
     "output_type": "stream",
     "text": [
      "Train Loss 212.36767578125\n",
      "Train Accuracy 76.76%\n"
     ]
    },
    {
     "name": "stderr",
     "output_type": "stream",
     "text": [
      "100%|██████████| 31/31 [00:00<00:00, 50.87it/s]\n"
     ]
    },
    {
     "name": "stdout",
     "output_type": "stream",
     "text": [
      "Best Model Saved!\n",
      "Validation Loss 29.984580993652344\n",
      "Validation Accuracy 77.52%\n",
      "Epoch 14\n"
     ]
    },
    {
     "name": "stderr",
     "output_type": "stream",
     "text": [
      "100%|██████████| 218/218 [00:06<00:00, 31.90it/s]\n"
     ]
    },
    {
     "name": "stdout",
     "output_type": "stream",
     "text": [
      "Train Loss 210.07054138183594\n",
      "Train Accuracy 77.81%\n"
     ]
    },
    {
     "name": "stderr",
     "output_type": "stream",
     "text": [
      "100%|██████████| 31/31 [00:00<00:00, 50.38it/s]\n"
     ]
    },
    {
     "name": "stdout",
     "output_type": "stream",
     "text": [
      "Best Model Saved!\n",
      "Validation Loss 29.883455276489258\n",
      "Validation Accuracy 77.92%\n",
      "Epoch 15\n"
     ]
    },
    {
     "name": "stderr",
     "output_type": "stream",
     "text": [
      "100%|██████████| 218/218 [00:06<00:00, 31.90it/s]\n"
     ]
    },
    {
     "name": "stdout",
     "output_type": "stream",
     "text": [
      "Train Loss 208.736572265625\n",
      "Train Accuracy 78.21%\n"
     ]
    },
    {
     "name": "stderr",
     "output_type": "stream",
     "text": [
      "100%|██████████| 31/31 [00:00<00:00, 50.71it/s]\n"
     ]
    },
    {
     "name": "stdout",
     "output_type": "stream",
     "text": [
      "Validation Loss 30.156572341918945\n",
      "Validation Accuracy 77.02%\n",
      "Epoch 16\n"
     ]
    },
    {
     "name": "stderr",
     "output_type": "stream",
     "text": [
      "100%|██████████| 218/218 [00:06<00:00, 31.83it/s]\n"
     ]
    },
    {
     "name": "stdout",
     "output_type": "stream",
     "text": [
      "Train Loss 211.29953002929688\n",
      "Train Accuracy 77.25%\n"
     ]
    },
    {
     "name": "stderr",
     "output_type": "stream",
     "text": [
      "100%|██████████| 31/31 [00:00<00:00, 50.18it/s]\n"
     ]
    },
    {
     "name": "stdout",
     "output_type": "stream",
     "text": [
      "Best Model Saved!\n",
      "Validation Loss 29.550460815429688\n",
      "Validation Accuracy 78.53%\n",
      "Epoch 17\n"
     ]
    },
    {
     "name": "stderr",
     "output_type": "stream",
     "text": [
      "100%|██████████| 218/218 [00:06<00:00, 31.79it/s]\n"
     ]
    },
    {
     "name": "stdout",
     "output_type": "stream",
     "text": [
      "Train Loss 207.17127990722656\n",
      "Train Accuracy 79.21%\n"
     ]
    },
    {
     "name": "stderr",
     "output_type": "stream",
     "text": [
      "100%|██████████| 31/31 [00:00<00:00, 50.26it/s]\n"
     ]
    },
    {
     "name": "stdout",
     "output_type": "stream",
     "text": [
      "Best Model Saved!\n",
      "Validation Loss 29.506431579589844\n",
      "Validation Accuracy 78.73%\n",
      "Epoch 18\n"
     ]
    },
    {
     "name": "stderr",
     "output_type": "stream",
     "text": [
      "100%|██████████| 218/218 [00:06<00:00, 31.74it/s]\n"
     ]
    },
    {
     "name": "stdout",
     "output_type": "stream",
     "text": [
      "Train Loss 205.5535888671875\n",
      "Train Accuracy 80.16%\n"
     ]
    },
    {
     "name": "stderr",
     "output_type": "stream",
     "text": [
      "100%|██████████| 31/31 [00:00<00:00, 49.81it/s]\n"
     ]
    },
    {
     "name": "stdout",
     "output_type": "stream",
     "text": [
      "Validation Loss 30.58582305908203\n",
      "Validation Accuracy 75.00%\n",
      "Epoch 19\n"
     ]
    },
    {
     "name": "stderr",
     "output_type": "stream",
     "text": [
      "100%|██████████| 218/218 [00:06<00:00, 31.90it/s]\n"
     ]
    },
    {
     "name": "stdout",
     "output_type": "stream",
     "text": [
      "Train Loss 207.04794311523438\n",
      "Train Accuracy 79.17%\n"
     ]
    },
    {
     "name": "stderr",
     "output_type": "stream",
     "text": [
      "100%|██████████| 31/31 [00:00<00:00, 50.42it/s]\n"
     ]
    },
    {
     "name": "stdout",
     "output_type": "stream",
     "text": [
      "Validation Loss 30.033231735229492\n",
      "Validation Accuracy 76.21%\n",
      "Epoch 20\n"
     ]
    },
    {
     "name": "stderr",
     "output_type": "stream",
     "text": [
      "100%|██████████| 218/218 [00:06<00:00, 31.87it/s]\n"
     ]
    },
    {
     "name": "stdout",
     "output_type": "stream",
     "text": [
      "Train Loss 203.89804077148438\n",
      "Train Accuracy 80.83%\n"
     ]
    },
    {
     "name": "stderr",
     "output_type": "stream",
     "text": [
      "100%|██████████| 31/31 [00:00<00:00, 50.46it/s]\n"
     ]
    },
    {
     "name": "stdout",
     "output_type": "stream",
     "text": [
      "Best Model Saved!\n",
      "Validation Loss 29.538097381591797\n",
      "Validation Accuracy 79.03%\n",
      "Epoch 21\n"
     ]
    },
    {
     "name": "stderr",
     "output_type": "stream",
     "text": [
      "100%|██████████| 218/218 [00:06<00:00, 31.89it/s]\n"
     ]
    },
    {
     "name": "stdout",
     "output_type": "stream",
     "text": [
      "Train Loss 202.24288940429688\n",
      "Train Accuracy 81.77%\n"
     ]
    },
    {
     "name": "stderr",
     "output_type": "stream",
     "text": [
      "100%|██████████| 31/31 [00:00<00:00, 50.46it/s]\n"
     ]
    },
    {
     "name": "stdout",
     "output_type": "stream",
     "text": [
      "Validation Loss 29.908462524414062\n",
      "Validation Accuracy 76.81%\n",
      "Epoch 22\n"
     ]
    },
    {
     "name": "stderr",
     "output_type": "stream",
     "text": [
      "100%|██████████| 218/218 [00:06<00:00, 31.83it/s]\n"
     ]
    },
    {
     "name": "stdout",
     "output_type": "stream",
     "text": [
      "Train Loss 201.01451110839844\n",
      "Train Accuracy 82.45%\n"
     ]
    },
    {
     "name": "stderr",
     "output_type": "stream",
     "text": [
      "100%|██████████| 31/31 [00:00<00:00, 50.08it/s]\n"
     ]
    },
    {
     "name": "stdout",
     "output_type": "stream",
     "text": [
      "Best Model Saved!\n",
      "Validation Loss 29.22307777404785\n",
      "Validation Accuracy 79.84%\n",
      "Epoch 23\n"
     ]
    },
    {
     "name": "stderr",
     "output_type": "stream",
     "text": [
      "100%|██████████| 218/218 [00:06<00:00, 31.78it/s]\n"
     ]
    },
    {
     "name": "stdout",
     "output_type": "stream",
     "text": [
      "Train Loss 199.63816833496094\n",
      "Train Accuracy 83.10%\n"
     ]
    },
    {
     "name": "stderr",
     "output_type": "stream",
     "text": [
      "100%|██████████| 31/31 [00:00<00:00, 50.15it/s]\n"
     ]
    },
    {
     "name": "stdout",
     "output_type": "stream",
     "text": [
      "Best Model Saved!\n",
      "Validation Loss 29.039148330688477\n",
      "Validation Accuracy 80.04%\n",
      "Epoch 24\n"
     ]
    },
    {
     "name": "stderr",
     "output_type": "stream",
     "text": [
      "100%|██████████| 218/218 [00:06<00:00, 31.80it/s]\n"
     ]
    },
    {
     "name": "stdout",
     "output_type": "stream",
     "text": [
      "Train Loss 197.34523010253906\n",
      "Train Accuracy 84.38%\n"
     ]
    },
    {
     "name": "stderr",
     "output_type": "stream",
     "text": [
      "100%|██████████| 31/31 [00:00<00:00, 49.50it/s]\n"
     ]
    },
    {
     "name": "stdout",
     "output_type": "stream",
     "text": [
      "Best Model Saved!\n",
      "Validation Loss 29.29729652404785\n",
      "Validation Accuracy 80.14%\n",
      "Epoch 25\n"
     ]
    },
    {
     "name": "stderr",
     "output_type": "stream",
     "text": [
      "100%|██████████| 218/218 [00:06<00:00, 31.88it/s]\n"
     ]
    },
    {
     "name": "stdout",
     "output_type": "stream",
     "text": [
      "Train Loss 197.75613403320312\n",
      "Train Accuracy 83.97%\n"
     ]
    },
    {
     "name": "stderr",
     "output_type": "stream",
     "text": [
      "100%|██████████| 31/31 [00:00<00:00, 49.04it/s]\n"
     ]
    },
    {
     "name": "stdout",
     "output_type": "stream",
     "text": [
      "Validation Loss 29.210365295410156\n",
      "Validation Accuracy 79.94%\n",
      "Epoch 26\n"
     ]
    },
    {
     "name": "stderr",
     "output_type": "stream",
     "text": [
      "100%|██████████| 218/218 [00:06<00:00, 31.79it/s]\n"
     ]
    },
    {
     "name": "stdout",
     "output_type": "stream",
     "text": [
      "Train Loss 196.06292724609375\n",
      "Train Accuracy 84.99%\n"
     ]
    },
    {
     "name": "stderr",
     "output_type": "stream",
     "text": [
      "100%|██████████| 31/31 [00:00<00:00, 49.26it/s]\n"
     ]
    },
    {
     "name": "stdout",
     "output_type": "stream",
     "text": [
      "Validation Loss 29.568532943725586\n",
      "Validation Accuracy 78.43%\n",
      "Epoch 27\n"
     ]
    },
    {
     "name": "stderr",
     "output_type": "stream",
     "text": [
      "100%|██████████| 218/218 [00:06<00:00, 31.96it/s]\n"
     ]
    },
    {
     "name": "stdout",
     "output_type": "stream",
     "text": [
      "Train Loss 194.73178100585938\n",
      "Train Accuracy 85.38%\n"
     ]
    },
    {
     "name": "stderr",
     "output_type": "stream",
     "text": [
      "100%|██████████| 31/31 [00:00<00:00, 49.16it/s]\n"
     ]
    },
    {
     "name": "stdout",
     "output_type": "stream",
     "text": [
      "Validation Loss 29.07088851928711\n",
      "Validation Accuracy 80.04%\n",
      "Epoch 28\n"
     ]
    },
    {
     "name": "stderr",
     "output_type": "stream",
     "text": [
      "100%|██████████| 218/218 [00:06<00:00, 31.93it/s]\n"
     ]
    },
    {
     "name": "stdout",
     "output_type": "stream",
     "text": [
      "Train Loss 192.12269592285156\n",
      "Train Accuracy 86.84%\n"
     ]
    },
    {
     "name": "stderr",
     "output_type": "stream",
     "text": [
      "100%|██████████| 31/31 [00:00<00:00, 49.97it/s]\n"
     ]
    },
    {
     "name": "stdout",
     "output_type": "stream",
     "text": [
      "Best Model Saved!\n",
      "Validation Loss 28.881040573120117\n",
      "Validation Accuracy 80.75%\n",
      "Epoch 29\n"
     ]
    },
    {
     "name": "stderr",
     "output_type": "stream",
     "text": [
      "100%|██████████| 218/218 [00:06<00:00, 31.69it/s]\n"
     ]
    },
    {
     "name": "stdout",
     "output_type": "stream",
     "text": [
      "Train Loss 190.8667449951172\n",
      "Train Accuracy 87.43%\n"
     ]
    },
    {
     "name": "stderr",
     "output_type": "stream",
     "text": [
      "100%|██████████| 31/31 [00:00<00:00, 50.07it/s]\n"
     ]
    },
    {
     "name": "stdout",
     "output_type": "stream",
     "text": [
      "Best Model Saved!\n",
      "Validation Loss 28.81560707092285\n",
      "Validation Accuracy 81.15%\n",
      "Epoch 30\n"
     ]
    },
    {
     "name": "stderr",
     "output_type": "stream",
     "text": [
      "100%|██████████| 218/218 [00:06<00:00, 31.93it/s]\n"
     ]
    },
    {
     "name": "stdout",
     "output_type": "stream",
     "text": [
      "Train Loss 189.63031005859375\n",
      "Train Accuracy 87.80%\n"
     ]
    },
    {
     "name": "stderr",
     "output_type": "stream",
     "text": [
      "100%|██████████| 31/31 [00:00<00:00, 50.14it/s]\n"
     ]
    },
    {
     "name": "stdout",
     "output_type": "stream",
     "text": [
      "Best Model Saved!\n",
      "Validation Loss 28.606151580810547\n",
      "Validation Accuracy 81.35%\n",
      "Epoch 31\n"
     ]
    },
    {
     "name": "stderr",
     "output_type": "stream",
     "text": [
      "100%|██████████| 218/218 [00:06<00:00, 31.89it/s]\n"
     ]
    },
    {
     "name": "stdout",
     "output_type": "stream",
     "text": [
      "Train Loss 188.876953125\n",
      "Train Accuracy 88.35%\n"
     ]
    },
    {
     "name": "stderr",
     "output_type": "stream",
     "text": [
      "100%|██████████| 31/31 [00:00<00:00, 50.05it/s]\n"
     ]
    },
    {
     "name": "stdout",
     "output_type": "stream",
     "text": [
      "Validation Loss 28.690366744995117\n",
      "Validation Accuracy 81.35%\n",
      "Epoch 32\n"
     ]
    },
    {
     "name": "stderr",
     "output_type": "stream",
     "text": [
      "100%|██████████| 218/218 [00:06<00:00, 31.92it/s]\n"
     ]
    },
    {
     "name": "stdout",
     "output_type": "stream",
     "text": [
      "Train Loss 187.4434051513672\n",
      "Train Accuracy 88.78%\n"
     ]
    },
    {
     "name": "stderr",
     "output_type": "stream",
     "text": [
      "100%|██████████| 31/31 [00:00<00:00, 50.63it/s]\n"
     ]
    },
    {
     "name": "stdout",
     "output_type": "stream",
     "text": [
      "Validation Loss 28.92622947692871\n",
      "Validation Accuracy 80.54%\n",
      "Epoch 33\n"
     ]
    },
    {
     "name": "stderr",
     "output_type": "stream",
     "text": [
      "100%|██████████| 218/218 [00:06<00:00, 31.83it/s]\n"
     ]
    },
    {
     "name": "stdout",
     "output_type": "stream",
     "text": [
      "Train Loss 186.36798095703125\n",
      "Train Accuracy 89.54%\n"
     ]
    },
    {
     "name": "stderr",
     "output_type": "stream",
     "text": [
      "100%|██████████| 31/31 [00:00<00:00, 50.15it/s]\n"
     ]
    },
    {
     "name": "stdout",
     "output_type": "stream",
     "text": [
      "Best Model Saved!\n",
      "Validation Loss 28.655946731567383\n",
      "Validation Accuracy 81.75%\n",
      "Epoch 34\n"
     ]
    },
    {
     "name": "stderr",
     "output_type": "stream",
     "text": [
      "100%|██████████| 218/218 [00:06<00:00, 31.96it/s]\n"
     ]
    },
    {
     "name": "stdout",
     "output_type": "stream",
     "text": [
      "Train Loss 184.61610412597656\n",
      "Train Accuracy 90.37%\n"
     ]
    },
    {
     "name": "stderr",
     "output_type": "stream",
     "text": [
      "100%|██████████| 31/31 [00:00<00:00, 50.21it/s]\n"
     ]
    },
    {
     "name": "stdout",
     "output_type": "stream",
     "text": [
      "Validation Loss 29.098773956298828\n",
      "Validation Accuracy 79.74%\n",
      "Epoch 35\n"
     ]
    },
    {
     "name": "stderr",
     "output_type": "stream",
     "text": [
      "100%|██████████| 218/218 [00:06<00:00, 31.87it/s]\n"
     ]
    },
    {
     "name": "stdout",
     "output_type": "stream",
     "text": [
      "Train Loss 184.38990783691406\n",
      "Train Accuracy 90.40%\n"
     ]
    },
    {
     "name": "stderr",
     "output_type": "stream",
     "text": [
      "100%|██████████| 31/31 [00:00<00:00, 50.45it/s]\n"
     ]
    },
    {
     "name": "stdout",
     "output_type": "stream",
     "text": [
      "Validation Loss 28.837818145751953\n",
      "Validation Accuracy 80.34%\n",
      "Epoch 36\n"
     ]
    },
    {
     "name": "stderr",
     "output_type": "stream",
     "text": [
      "100%|██████████| 218/218 [00:06<00:00, 31.89it/s]\n"
     ]
    },
    {
     "name": "stdout",
     "output_type": "stream",
     "text": [
      "Train Loss 183.5722198486328\n",
      "Train Accuracy 90.57%\n"
     ]
    },
    {
     "name": "stderr",
     "output_type": "stream",
     "text": [
      "100%|██████████| 31/31 [00:00<00:00, 50.62it/s]\n"
     ]
    },
    {
     "name": "stdout",
     "output_type": "stream",
     "text": [
      "Best Model Saved!\n",
      "Validation Loss 28.680936813354492\n",
      "Validation Accuracy 81.85%\n",
      "Epoch 37\n"
     ]
    },
    {
     "name": "stderr",
     "output_type": "stream",
     "text": [
      "100%|██████████| 218/218 [00:06<00:00, 31.80it/s]\n"
     ]
    },
    {
     "name": "stdout",
     "output_type": "stream",
     "text": [
      "Train Loss 182.42630004882812\n",
      "Train Accuracy 91.34%\n"
     ]
    },
    {
     "name": "stderr",
     "output_type": "stream",
     "text": [
      "100%|██████████| 31/31 [00:00<00:00, 49.76it/s]\n"
     ]
    },
    {
     "name": "stdout",
     "output_type": "stream",
     "text": [
      "Best Model Saved!\n",
      "Validation Loss 28.517745971679688\n",
      "Validation Accuracy 82.06%\n",
      "Epoch 38\n"
     ]
    },
    {
     "name": "stderr",
     "output_type": "stream",
     "text": [
      "100%|██████████| 218/218 [00:06<00:00, 31.87it/s]\n"
     ]
    },
    {
     "name": "stdout",
     "output_type": "stream",
     "text": [
      "Train Loss 181.8842315673828\n",
      "Train Accuracy 91.54%\n"
     ]
    },
    {
     "name": "stderr",
     "output_type": "stream",
     "text": [
      "100%|██████████| 31/31 [00:00<00:00, 50.79it/s]\n"
     ]
    },
    {
     "name": "stdout",
     "output_type": "stream",
     "text": [
      "Validation Loss 28.801620483398438\n",
      "Validation Accuracy 80.85%\n",
      "Epoch 39\n"
     ]
    },
    {
     "name": "stderr",
     "output_type": "stream",
     "text": [
      "100%|██████████| 218/218 [00:06<00:00, 31.87it/s]\n"
     ]
    },
    {
     "name": "stdout",
     "output_type": "stream",
     "text": [
      "Train Loss 181.5967559814453\n",
      "Train Accuracy 91.64%\n"
     ]
    },
    {
     "name": "stderr",
     "output_type": "stream",
     "text": [
      "100%|██████████| 31/31 [00:00<00:00, 49.88it/s]\n"
     ]
    },
    {
     "name": "stdout",
     "output_type": "stream",
     "text": [
      "Best Model Saved!\n",
      "Validation Loss 28.441240310668945\n",
      "Validation Accuracy 83.06%\n",
      "Epoch 40\n"
     ]
    },
    {
     "name": "stderr",
     "output_type": "stream",
     "text": [
      "100%|██████████| 218/218 [00:06<00:00, 31.95it/s]\n"
     ]
    },
    {
     "name": "stdout",
     "output_type": "stream",
     "text": [
      "Train Loss 180.88739013671875\n",
      "Train Accuracy 91.92%\n"
     ]
    },
    {
     "name": "stderr",
     "output_type": "stream",
     "text": [
      "100%|██████████| 31/31 [00:00<00:00, 49.89it/s]\n"
     ]
    },
    {
     "name": "stdout",
     "output_type": "stream",
     "text": [
      "Validation Loss 29.305116653442383\n",
      "Validation Accuracy 79.74%\n",
      "Epoch 41\n"
     ]
    },
    {
     "name": "stderr",
     "output_type": "stream",
     "text": [
      "100%|██████████| 218/218 [00:06<00:00, 32.03it/s]\n"
     ]
    },
    {
     "name": "stdout",
     "output_type": "stream",
     "text": [
      "Train Loss 181.51947021484375\n",
      "Train Accuracy 91.60%\n"
     ]
    },
    {
     "name": "stderr",
     "output_type": "stream",
     "text": [
      "100%|██████████| 31/31 [00:00<00:00, 49.34it/s]\n"
     ]
    },
    {
     "name": "stdout",
     "output_type": "stream",
     "text": [
      "Validation Loss 28.56515121459961\n",
      "Validation Accuracy 81.35%\n",
      "Epoch 42\n"
     ]
    },
    {
     "name": "stderr",
     "output_type": "stream",
     "text": [
      "100%|██████████| 218/218 [00:06<00:00, 31.76it/s]\n"
     ]
    },
    {
     "name": "stdout",
     "output_type": "stream",
     "text": [
      "Train Loss 179.80178833007812\n",
      "Train Accuracy 92.37%\n"
     ]
    },
    {
     "name": "stderr",
     "output_type": "stream",
     "text": [
      "100%|██████████| 31/31 [00:00<00:00, 50.71it/s]\n"
     ]
    },
    {
     "name": "stdout",
     "output_type": "stream",
     "text": [
      "Validation Loss 28.441434860229492\n",
      "Validation Accuracy 81.96%\n",
      "Epoch 43\n"
     ]
    },
    {
     "name": "stderr",
     "output_type": "stream",
     "text": [
      "100%|██████████| 218/218 [00:06<00:00, 31.95it/s]\n"
     ]
    },
    {
     "name": "stdout",
     "output_type": "stream",
     "text": [
      "Train Loss 178.00755310058594\n",
      "Train Accuracy 93.19%\n"
     ]
    },
    {
     "name": "stderr",
     "output_type": "stream",
     "text": [
      "100%|██████████| 31/31 [00:00<00:00, 50.80it/s]\n"
     ]
    },
    {
     "name": "stdout",
     "output_type": "stream",
     "text": [
      "Validation Loss 28.699003219604492\n",
      "Validation Accuracy 81.05%\n",
      "Epoch 44\n"
     ]
    },
    {
     "name": "stderr",
     "output_type": "stream",
     "text": [
      "100%|██████████| 218/218 [00:06<00:00, 31.88it/s]\n"
     ]
    },
    {
     "name": "stdout",
     "output_type": "stream",
     "text": [
      "Train Loss 178.56092834472656\n",
      "Train Accuracy 93.03%\n"
     ]
    },
    {
     "name": "stderr",
     "output_type": "stream",
     "text": [
      "100%|██████████| 31/31 [00:00<00:00, 49.90it/s]\n"
     ]
    },
    {
     "name": "stdout",
     "output_type": "stream",
     "text": [
      "Validation Loss 29.256757736206055\n",
      "Validation Accuracy 79.44%\n",
      "Epoch 45\n"
     ]
    },
    {
     "name": "stderr",
     "output_type": "stream",
     "text": [
      "100%|██████████| 218/218 [00:06<00:00, 31.86it/s]\n"
     ]
    },
    {
     "name": "stdout",
     "output_type": "stream",
     "text": [
      "Train Loss 179.92169189453125\n",
      "Train Accuracy 92.52%\n"
     ]
    },
    {
     "name": "stderr",
     "output_type": "stream",
     "text": [
      "100%|██████████| 31/31 [00:00<00:00, 50.52it/s]\n"
     ]
    },
    {
     "name": "stdout",
     "output_type": "stream",
     "text": [
      "Validation Loss 28.432336807250977\n",
      "Validation Accuracy 82.16%\n",
      "Epoch 46\n"
     ]
    },
    {
     "name": "stderr",
     "output_type": "stream",
     "text": [
      "100%|██████████| 218/218 [00:06<00:00, 31.89it/s]\n"
     ]
    },
    {
     "name": "stdout",
     "output_type": "stream",
     "text": [
      "Train Loss 179.39825439453125\n",
      "Train Accuracy 92.59%\n"
     ]
    },
    {
     "name": "stderr",
     "output_type": "stream",
     "text": [
      "100%|██████████| 31/31 [00:00<00:00, 49.40it/s]\n"
     ]
    },
    {
     "name": "stdout",
     "output_type": "stream",
     "text": [
      "Validation Loss 28.708988189697266\n",
      "Validation Accuracy 81.35%\n",
      "Epoch 47\n"
     ]
    },
    {
     "name": "stderr",
     "output_type": "stream",
     "text": [
      "100%|██████████| 218/218 [00:06<00:00, 31.84it/s]\n"
     ]
    },
    {
     "name": "stdout",
     "output_type": "stream",
     "text": [
      "Train Loss 177.70736694335938\n",
      "Train Accuracy 93.33%\n"
     ]
    },
    {
     "name": "stderr",
     "output_type": "stream",
     "text": [
      "100%|██████████| 31/31 [00:00<00:00, 49.97it/s]\n"
     ]
    },
    {
     "name": "stdout",
     "output_type": "stream",
     "text": [
      "Validation Loss 28.42325210571289\n",
      "Validation Accuracy 82.46%\n",
      "Epoch 48\n"
     ]
    },
    {
     "name": "stderr",
     "output_type": "stream",
     "text": [
      "100%|██████████| 218/218 [00:06<00:00, 31.78it/s]\n"
     ]
    },
    {
     "name": "stdout",
     "output_type": "stream",
     "text": [
      "Train Loss 177.73146057128906\n",
      "Train Accuracy 93.21%\n"
     ]
    },
    {
     "name": "stderr",
     "output_type": "stream",
     "text": [
      "100%|██████████| 31/31 [00:00<00:00, 50.46it/s]\n"
     ]
    },
    {
     "name": "stdout",
     "output_type": "stream",
     "text": [
      "Validation Loss 28.62681007385254\n",
      "Validation Accuracy 81.45%\n",
      "Epoch 49\n"
     ]
    },
    {
     "name": "stderr",
     "output_type": "stream",
     "text": [
      "100%|██████████| 218/218 [00:06<00:00, 31.85it/s]\n"
     ]
    },
    {
     "name": "stdout",
     "output_type": "stream",
     "text": [
      "Train Loss 177.4921875\n",
      "Train Accuracy 93.29%\n"
     ]
    },
    {
     "name": "stderr",
     "output_type": "stream",
     "text": [
      "100%|██████████| 31/31 [00:00<00:00, 49.81it/s]\n"
     ]
    },
    {
     "name": "stdout",
     "output_type": "stream",
     "text": [
      "Validation Loss 28.55434799194336\n",
      "Validation Accuracy 81.96%\n",
      "Epoch 50\n"
     ]
    },
    {
     "name": "stderr",
     "output_type": "stream",
     "text": [
      "100%|██████████| 218/218 [00:06<00:00, 31.84it/s]\n"
     ]
    },
    {
     "name": "stdout",
     "output_type": "stream",
     "text": [
      "Train Loss 178.1750030517578\n",
      "Train Accuracy 93.05%\n"
     ]
    },
    {
     "name": "stderr",
     "output_type": "stream",
     "text": [
      "100%|██████████| 31/31 [00:00<00:00, 50.14it/s]"
     ]
    },
    {
     "name": "stdout",
     "output_type": "stream",
     "text": [
      "Validation Loss 28.642271041870117\n",
      "Validation Accuracy 81.96%\n"
     ]
    },
    {
     "name": "stderr",
     "output_type": "stream",
     "text": [
      "\n"
     ]
    }
   ],
   "source": [
    "# HINT: note that your training time should not take more than 2 hours.\n",
    "max_epoch = 50\n",
    "train_batch = 32\n",
    "test_batch = 32\n",
    "learning_rate = 1e-3\n",
    "\n",
    "use_gpu = torch.cuda.is_available()\n",
    "device = torch.device(\"cuda\" if use_gpu else \"cpu\")\n",
    "\n",
    "# Create train dataset loader\n",
    "# Create validation dataset loader\n",
    "# Create test dataset loader\n",
    "train_loader = DataLoader(dataset=train_dataset, batch_size=train_batch, shuffle=True, drop_last=True)\n",
    "val_loader = DataLoader(dataset=val_dataset, batch_size=train_batch, shuffle=True, drop_last=True)\n",
    "test_loader = DataLoader(dataset=test_dataset, batch_size=test_batch, shuffle=False, drop_last=True)\n",
    "# initialize your network\n",
    "model = ConvNet()\n",
    "model = model.to(device)\n",
    "\n",
    "# define your loss function\n",
    "loss_fuc = nn.CrossEntropyLoss()\n",
    "optimizer = torch.optim.Adam(model.parameters(), lr=learning_rate, weight_decay=5e-04) # you can play with  weight_decay as well\n",
    "    \n",
    "# start training\n",
    "# for each epoch calculate validation performance\n",
    "# save best model according to validation performance\n",
    "last_val_acc = None\n",
    "train_losses = []\n",
    "val_losses = []\n",
    "train_accuracies = []\n",
    "val_accuracies = []\n",
    "for epoch in range(max_epoch):\n",
    "  try:\n",
    "    train_accurate = 0\n",
    "    val_accurate = 0\n",
    "    print(f\"Epoch {epoch + 1}\")\n",
    "    model=model.train()\n",
    "    train_loss = 0\n",
    "    val_loss = 0\n",
    "    train_idx = 0\n",
    "    #    iterate over training batches\n",
    "    for x,y in tqdm(train_loader):\n",
    "      train_idx += 1\n",
    "      x = x.to(device)\n",
    "      y = y.to(device)\n",
    "\n",
    "      optimizer.zero_grad()\n",
    "      output = model(x)\n",
    "      batch_loss = loss_fuc(output, y)\n",
    "      train_loss += batch_loss\n",
    "      train_accurate += accuracy(output, y)\n",
    "\n",
    "      batch_loss.backward()\n",
    "      optimizer.step()\n",
    "    train_accuracy = train_accurate / (train_idx * train_batch)\n",
    "    print(f\"Train Loss {train_loss}\")\n",
    "    print(\"Train Accuracy {:.2f}%\".format(train_accuracy * 100))\n",
    "    train_accuracies.append(train_accuracy)\n",
    "    train_losses.append(train_loss)\n",
    "    # #    Validation\n",
    "    model = model.eval()\n",
    "    with torch.no_grad():\n",
    "    #     iterate over validation batches\n",
    "      val_idx = 0\n",
    "      for x,y in tqdm(val_loader):\n",
    "        val_idx += 1\n",
    "        x = x.to(device)\n",
    "        y = y.to(device)\n",
    "\n",
    "        output = model(x)\n",
    "        batch_loss = loss_fuc(output, y)\n",
    "        val_loss += batch_loss\n",
    "        val_accurate += accuracy(output, y)\n",
    "      val_accuracy = val_accurate / (val_idx * train_batch)\n",
    "      if last_val_acc == None or val_accuracy > last_val_acc:\n",
    "        last_val_acc = val_accuracy\n",
    "        torch.save(model, \"~/CS464_Fall21_HW3/best_cnn_adam.pth\")\n",
    "        print(\"Best Model Saved!\")\n",
    "      print(f\"Validation Loss {val_loss}\")\n",
    "      print(\"Validation Accuracy {:.2f}%\".format(val_accuracy * 100))\n",
    "      val_accuracies.append(val_accuracy)\n",
    "      val_losses.append(val_loss)\n",
    "  except KeyboardInterrupt:\n",
    "    pass\n",
    "\n"
   ]
  },
  {
   "cell_type": "code",
   "execution_count": 42,
   "metadata": {
    "id": "jIhMsMoaxhm4"
   },
   "outputs": [
    {
     "data": {
      "image/png": "[encoded data removed]",
      "text/plain": [
       "<Figure size 432x288 with 2 Axes>"
      ]
     },
     "metadata": {
      "needs_background": "light"
     },
     "output_type": "display_data"
    },
    {
     "data": {
      "image/png": "[encoded data removed]",
      "text/plain": [
       "<Figure size 432x288 with 2 Axes>"
      ]
     },
     "metadata": {
      "needs_background": "light"
     },
     "output_type": "display_data"
    }
   ],
   "source": [
    "# Train\n",
    "plt.subplot(1,2,1)\n",
    "plt.plot(train_losses)\n",
    "plt.xlabel(\"Epochs\")\n",
    "plt.ylabel(\"Train Loss\")\n",
    "plt.title(\"Train Loss Plot\")\n",
    "plt.subplot(1,2,2)\n",
    "plt.plot(train_accuracies)\n",
    "plt.xlabel(\"Epochs\")\n",
    "plt.ylabel(\"Train Accuracy\")\n",
    "plt.title(\"Train Accuracy Plot\")\n",
    "plt.show()\n",
    "\n",
    "# Validation\n",
    "plt.subplot(1,2,1)\n",
    "plt.plot(val_losses)\n",
    "plt.xlabel(\"Epochs\")\n",
    "plt.ylabel(\"Validation Loss\")\n",
    "plt.title(\"Validation Loss Plot\")\n",
    "plt.subplot(1,2,2)\n",
    "plt.plot(val_accuracies)\n",
    "plt.xlabel(\"Epochs\")\n",
    "plt.ylabel(\"Validation Accuracy\")\n",
    "plt.title(\"Validation Accuracy Plot\")\n",
    "plt.show()"
   ]
  },
  {
   "cell_type": "markdown",
   "metadata": {
    "id": "0iozVeXZAXiH"
   },
   "source": [
    "####Test with ADAM [10 pts.]\n",
    "\n",
    "Report the following for your best model on your test set which has not been seen by the model yet.\n",
    "1. A heatmap for confusion matrix\n",
    "2. Accuracy\n",
    "3. Macro Precision\n",
    "4. Macro Recall\n",
    "5. F1 Score\n",
    "\n",
    "Then, discuss figures that you have plotted in the previous section, your test results and algorithm complexity with maximum 200 words. Compare two **optimizers**. Which one is more preferable? Why?\n",
    "Answer: Different algorithm structures were not used and therefore, it is not possible to compare these two results in terms of algorithm complexity. When dataset is used with two different optimizers, it is observed that Adam works better than SGD. The most persuasive reason is that the second moment serves as a gradient normalizer that divides the gradient by the square root of the moving average of squares of gradients. This makes Adam optimizer powerful because it is more robust. Complete train session was much more for Adam but eventually, it learns to generalize well."
   ]
  },
  {
   "cell_type": "code",
   "execution_count": 44,
   "metadata": {
    "id": "_t27l0hN9FqS"
   },
   "outputs": [
    {
     "name": "stderr",
     "output_type": "stream",
     "text": [
      "100%|██████████| 62/62 [00:01<00:00, 56.57it/s]"
     ]
    },
    {
     "name": "stdout",
     "output_type": "stream",
     "text": [
      "Mean Loss: tensor(0.9517, device='cuda:0') \n",
      "Mean Acc: 0.7867943548387096 \n",
      "Mean Macro Precision: 0.784938358898806 \n",
      "Mean Macro Recall: 0.785306002723781 \n",
      "Mean Macro F1 Score: 0.7842148347312282\n"
     ]
    },
    {
     "name": "stderr",
     "output_type": "stream",
     "text": [
      "\n"
     ]
    },
    {
     "data": {
      "image/png": "[encoded data removed]",
      "text/plain": [
       "<Figure size 432x288 with 1 Axes>"
      ]
     },
     "metadata": {
      "needs_background": "light"
     },
     "output_type": "display_data"
    }
   ],
   "source": [
    "best_path = \"~/CS464_Fall21_HW3/best_cnn_adam.pth\"\n",
    "model = torch.load(best_path)\n",
    "\n",
    "# evaluate on test set\n",
    "model = model.eval()\n",
    "with torch.no_grad():\n",
    "# iterate over test batches\n",
    "  test_idx = 0\n",
    "  y_true = None\n",
    "  y_pred = None\n",
    "  test_loss = 0\n",
    "  for x,y in tqdm(test_loader):\n",
    "    test_idx += 1\n",
    "    x = x.to(device)\n",
    "    y = y.to(device)\n",
    "\n",
    "    output = model(x)\n",
    "    batch_loss = loss_fuc(output, y)\n",
    "    test_loss += batch_loss\n",
    "    if test_idx == 1:\n",
    "      y_true = y.cpu().numpy()\n",
    "      y_pred = np.argmax(output.cpu().numpy(), axis=-1)\n",
    "    else:\n",
    "      y_true = np.concatenate((y_true, y.cpu().numpy()), axis=-1)\n",
    "      y_pred = np.concatenate((y_pred, np.argmax(output.cpu().numpy(), axis=-1)), axis=-1)\n",
    "\n",
    "  losses = test_loss / test_idx\n",
    "#   get confusion matrix\n",
    "conf_matrix = confusion_matrix(y_true, y_pred)\n",
    "#   calculate accuracy\n",
    "acc = accuracy_score(y_true, y_pred)\n",
    "#   calculate precision\n",
    "pre = precision_score(y_true, y_pred, average='macro')\n",
    "#   calculate recall\n",
    "recall = recall_score(y_true, y_pred, average='macro')\n",
    "#   calculate F1 score\n",
    "f1 = f1_score(y_true, y_pred, average='macro')\n",
    "\n",
    "# print metrics\n",
    "print(\"Mean Loss:\", losses, \"\\nMean Acc:\", acc,\"\\nMean Macro Precision:\", pre, \"\\nMean Macro Recall:\", recall, \"\\nMean Macro F1 Score:\", f1) \n",
    "\n",
    "# plot confusion matrix\n",
    "fig, ax = plt.subplots()\n",
    "im = ax.imshow(conf_matrix)\n",
    "# We want to show all ticks...\n",
    "ax.set_xticks(np.arange(4))\n",
    "ax.set_yticks(np.arange(4))\n",
    "\n",
    "fig.tight_layout()\n",
    "plt.show()"
   ]
  },
  {
   "cell_type": "markdown",
   "metadata": {
    "id": "WUsvHO7JUvK8"
   },
   "source": [
    "###Transfer Learning [25 pts.]\n",
    "\n",
    "Instead of training CNNs from scratch, you can use pretrained models and apply them to your task. Transfer learning is a machine learning technique where you can reuse a pretrained machine learning model as a starting point for your own task. In this question, you will experiment with it and try to understand why it is used."
   ]
  },
  {
   "cell_type": "markdown",
   "metadata": {
    "id": "_SdoJEXuUvK9"
   },
   "source": [
    "####Training with Transfer Learning [15 pts.]\n",
    "\n",
    "Get pretrained ResNet18 model from torchvision.models and finetune your model up to 20 epochs with properly processed inputs, i.e. call your \"get_dataset\". This time use transfer learning. Tune your learning rate, weight decay. Save your best model as \"best_cnn_transfer.pth\". The best model should be selected based on validation dataset. You could use any measurement and/or metric to decide on the best model for each network. However, you must explain your reasoning in your choice.\n",
    "\n",
    "During training, you need to plot two figures:\n",
    "1. training loss and validation loss vs. epoch\n",
    "2. training accuracy and validation accuracy vs. epoch <br>\n",
    "\n",
    "Name your axes and plots properly."
   ]
  },
  {
   "cell_type": "code",
   "execution_count": 54,
   "metadata": {
    "id": "q53czB57UvK9"
   },
   "outputs": [
    {
     "name": "stdout",
     "output_type": "stream",
     "text": [
      "Epoch 1\n"
     ]
    },
    {
     "name": "stderr",
     "output_type": "stream",
     "text": [
      "100%|██████████| 218/218 [02:26<00:00,  1.49it/s]\n"
     ]
    },
    {
     "name": "stdout",
     "output_type": "stream",
     "text": [
      "Train Loss 206.6658172607422\n",
      "Train Accuracy 62.79%\n"
     ]
    },
    {
     "name": "stderr",
     "output_type": "stream",
     "text": [
      "100%|██████████| 31/31 [00:06<00:00,  4.60it/s]\n"
     ]
    },
    {
     "name": "stdout",
     "output_type": "stream",
     "text": [
      "Best Model Saved!\n",
      "Validation Loss 17.955232620239258\n",
      "Validation Accuracy 82.16%\n",
      "Epoch 2\n"
     ]
    },
    {
     "name": "stderr",
     "output_type": "stream",
     "text": [
      "100%|██████████| 218/218 [02:28<00:00,  1.46it/s]\n"
     ]
    },
    {
     "name": "stdout",
     "output_type": "stream",
     "text": [
      "Train Loss 108.71653747558594\n",
      "Train Accuracy 83.76%\n"
     ]
    },
    {
     "name": "stderr",
     "output_type": "stream",
     "text": [
      "100%|██████████| 31/31 [00:06<00:00,  4.52it/s]\n"
     ]
    },
    {
     "name": "stdout",
     "output_type": "stream",
     "text": [
      "Best Model Saved!\n",
      "Validation Loss 12.941713333129883\n",
      "Validation Accuracy 85.99%\n",
      "Epoch 3\n"
     ]
    },
    {
     "name": "stderr",
     "output_type": "stream",
     "text": [
      "100%|██████████| 218/218 [02:29<00:00,  1.46it/s]\n"
     ]
    },
    {
     "name": "stdout",
     "output_type": "stream",
     "text": [
      "Train Loss 84.21278381347656\n",
      "Train Accuracy 86.98%\n"
     ]
    },
    {
     "name": "stderr",
     "output_type": "stream",
     "text": [
      "100%|██████████| 31/31 [00:06<00:00,  4.49it/s]\n"
     ]
    },
    {
     "name": "stdout",
     "output_type": "stream",
     "text": [
      "Best Model Saved!\n",
      "Validation Loss 11.135269165039062\n",
      "Validation Accuracy 87.50%\n",
      "Epoch 4\n"
     ]
    },
    {
     "name": "stderr",
     "output_type": "stream",
     "text": [
      "100%|██████████| 218/218 [02:29<00:00,  1.46it/s]\n"
     ]
    },
    {
     "name": "stdout",
     "output_type": "stream",
     "text": [
      "Train Loss 71.1156005859375\n",
      "Train Accuracy 88.85%\n"
     ]
    },
    {
     "name": "stderr",
     "output_type": "stream",
     "text": [
      "100%|██████████| 31/31 [00:06<00:00,  4.60it/s]\n"
     ]
    },
    {
     "name": "stdout",
     "output_type": "stream",
     "text": [
      "Best Model Saved!\n",
      "Validation Loss 9.946879386901855\n",
      "Validation Accuracy 88.51%\n",
      "Epoch 5\n"
     ]
    },
    {
     "name": "stderr",
     "output_type": "stream",
     "text": [
      "100%|██████████| 218/218 [02:32<00:00,  1.43it/s]\n"
     ]
    },
    {
     "name": "stdout",
     "output_type": "stream",
     "text": [
      "Train Loss 60.700504302978516\n",
      "Train Accuracy 90.62%\n"
     ]
    },
    {
     "name": "stderr",
     "output_type": "stream",
     "text": [
      "100%|██████████| 31/31 [00:06<00:00,  4.54it/s]\n"
     ]
    },
    {
     "name": "stdout",
     "output_type": "stream",
     "text": [
      "Best Model Saved!\n",
      "Validation Loss 9.530397415161133\n",
      "Validation Accuracy 89.11%\n",
      "Epoch 6\n"
     ]
    },
    {
     "name": "stderr",
     "output_type": "stream",
     "text": [
      "100%|██████████| 218/218 [02:31<00:00,  1.44it/s]\n"
     ]
    },
    {
     "name": "stdout",
     "output_type": "stream",
     "text": [
      "Train Loss 54.67366027832031\n",
      "Train Accuracy 91.51%\n"
     ]
    },
    {
     "name": "stderr",
     "output_type": "stream",
     "text": [
      "100%|██████████| 31/31 [00:06<00:00,  4.61it/s]\n"
     ]
    },
    {
     "name": "stdout",
     "output_type": "stream",
     "text": [
      "Best Model Saved!\n",
      "Validation Loss 9.102653503417969\n",
      "Validation Accuracy 89.42%\n",
      "Epoch 7\n"
     ]
    },
    {
     "name": "stderr",
     "output_type": "stream",
     "text": [
      "100%|██████████| 218/218 [02:31<00:00,  1.44it/s]\n"
     ]
    },
    {
     "name": "stdout",
     "output_type": "stream",
     "text": [
      "Train Loss 47.749359130859375\n",
      "Train Accuracy 92.45%\n"
     ]
    },
    {
     "name": "stderr",
     "output_type": "stream",
     "text": [
      "100%|██████████| 31/31 [00:06<00:00,  4.54it/s]\n"
     ]
    },
    {
     "name": "stdout",
     "output_type": "stream",
     "text": [
      "Validation Loss 9.153619766235352\n",
      "Validation Accuracy 89.42%\n",
      "Epoch 8\n"
     ]
    },
    {
     "name": "stderr",
     "output_type": "stream",
     "text": [
      "100%|██████████| 218/218 [02:30<00:00,  1.45it/s]\n"
     ]
    },
    {
     "name": "stdout",
     "output_type": "stream",
     "text": [
      "Train Loss 45.09973907470703\n",
      "Train Accuracy 93.15%\n"
     ]
    },
    {
     "name": "stderr",
     "output_type": "stream",
     "text": [
      "100%|██████████| 31/31 [00:06<00:00,  4.60it/s]\n"
     ]
    },
    {
     "name": "stdout",
     "output_type": "stream",
     "text": [
      "Best Model Saved!\n",
      "Validation Loss 9.165166854858398\n",
      "Validation Accuracy 89.52%\n",
      "Epoch 9\n"
     ]
    },
    {
     "name": "stderr",
     "output_type": "stream",
     "text": [
      "100%|██████████| 218/218 [02:31<00:00,  1.44it/s]\n"
     ]
    },
    {
     "name": "stdout",
     "output_type": "stream",
     "text": [
      "Train Loss 40.30115509033203\n",
      "Train Accuracy 93.68%\n"
     ]
    },
    {
     "name": "stderr",
     "output_type": "stream",
     "text": [
      "100%|██████████| 31/31 [00:06<00:00,  4.56it/s]\n"
     ]
    },
    {
     "name": "stdout",
     "output_type": "stream",
     "text": [
      "Best Model Saved!\n",
      "Validation Loss 8.879110336303711\n",
      "Validation Accuracy 89.72%\n",
      "Epoch 10\n"
     ]
    },
    {
     "name": "stderr",
     "output_type": "stream",
     "text": [
      "100%|██████████| 218/218 [02:29<00:00,  1.46it/s]\n"
     ]
    },
    {
     "name": "stdout",
     "output_type": "stream",
     "text": [
      "Train Loss 36.95170211791992\n",
      "Train Accuracy 94.42%\n"
     ]
    },
    {
     "name": "stderr",
     "output_type": "stream",
     "text": [
      "100%|██████████| 31/31 [00:06<00:00,  4.47it/s]\n"
     ]
    },
    {
     "name": "stdout",
     "output_type": "stream",
     "text": [
      "Best Model Saved!\n",
      "Validation Loss 8.67726993560791\n",
      "Validation Accuracy 90.02%\n",
      "Epoch 11\n"
     ]
    },
    {
     "name": "stderr",
     "output_type": "stream",
     "text": [
      "100%|██████████| 218/218 [02:31<00:00,  1.44it/s]\n"
     ]
    },
    {
     "name": "stdout",
     "output_type": "stream",
     "text": [
      "Train Loss 31.743467330932617\n",
      "Train Accuracy 95.56%\n"
     ]
    },
    {
     "name": "stderr",
     "output_type": "stream",
     "text": [
      "100%|██████████| 31/31 [00:06<00:00,  4.78it/s]\n"
     ]
    },
    {
     "name": "stdout",
     "output_type": "stream",
     "text": [
      "Best Model Saved!\n",
      "Validation Loss 8.691481590270996\n",
      "Validation Accuracy 90.32%\n",
      "Epoch 12\n"
     ]
    },
    {
     "name": "stderr",
     "output_type": "stream",
     "text": [
      "100%|██████████| 218/218 [02:32<00:00,  1.43it/s]\n"
     ]
    },
    {
     "name": "stdout",
     "output_type": "stream",
     "text": [
      "Train Loss 30.295015335083008\n",
      "Train Accuracy 95.48%\n"
     ]
    },
    {
     "name": "stderr",
     "output_type": "stream",
     "text": [
      "100%|██████████| 31/31 [00:06<00:00,  4.69it/s]\n"
     ]
    },
    {
     "name": "stdout",
     "output_type": "stream",
     "text": [
      "Validation Loss 8.850245475769043\n",
      "Validation Accuracy 90.12%\n",
      "Epoch 13\n"
     ]
    },
    {
     "name": "stderr",
     "output_type": "stream",
     "text": [
      "100%|██████████| 218/218 [02:30<00:00,  1.45it/s]\n"
     ]
    },
    {
     "name": "stdout",
     "output_type": "stream",
     "text": [
      "Train Loss 25.785900115966797\n",
      "Train Accuracy 96.66%\n"
     ]
    },
    {
     "name": "stderr",
     "output_type": "stream",
     "text": [
      "100%|██████████| 31/31 [00:06<00:00,  4.78it/s]\n"
     ]
    },
    {
     "name": "stdout",
     "output_type": "stream",
     "text": [
      "Best Model Saved!\n",
      "Validation Loss 8.698301315307617\n",
      "Validation Accuracy 90.83%\n",
      "Epoch 14\n"
     ]
    },
    {
     "name": "stderr",
     "output_type": "stream",
     "text": [
      "100%|██████████| 218/218 [02:31<00:00,  1.44it/s]\n"
     ]
    },
    {
     "name": "stdout",
     "output_type": "stream",
     "text": [
      "Train Loss 24.19139862060547\n",
      "Train Accuracy 96.86%\n"
     ]
    },
    {
     "name": "stderr",
     "output_type": "stream",
     "text": [
      "100%|██████████| 31/31 [00:06<00:00,  4.74it/s]\n"
     ]
    },
    {
     "name": "stdout",
     "output_type": "stream",
     "text": [
      "Validation Loss 8.828044891357422\n",
      "Validation Accuracy 90.52%\n",
      "Epoch 15\n"
     ]
    },
    {
     "name": "stderr",
     "output_type": "stream",
     "text": [
      "100%|██████████| 218/218 [02:29<00:00,  1.46it/s]\n"
     ]
    },
    {
     "name": "stdout",
     "output_type": "stream",
     "text": [
      "Train Loss 23.029844284057617\n",
      "Train Accuracy 96.76%\n"
     ]
    },
    {
     "name": "stderr",
     "output_type": "stream",
     "text": [
      "100%|██████████| 31/31 [00:06<00:00,  4.62it/s]\n"
     ]
    },
    {
     "name": "stdout",
     "output_type": "stream",
     "text": [
      "Validation Loss 8.761327743530273\n",
      "Validation Accuracy 90.32%\n",
      "Epoch 16\n"
     ]
    },
    {
     "name": "stderr",
     "output_type": "stream",
     "text": [
      "100%|██████████| 218/218 [02:29<00:00,  1.46it/s]\n"
     ]
    },
    {
     "name": "stdout",
     "output_type": "stream",
     "text": [
      "Train Loss 20.761228561401367\n",
      "Train Accuracy 97.59%\n"
     ]
    },
    {
     "name": "stderr",
     "output_type": "stream",
     "text": [
      "100%|██████████| 31/31 [00:06<00:00,  4.59it/s]\n"
     ]
    },
    {
     "name": "stdout",
     "output_type": "stream",
     "text": [
      "Validation Loss 8.803288459777832\n",
      "Validation Accuracy 90.42%\n",
      "Epoch 17\n"
     ]
    },
    {
     "name": "stderr",
     "output_type": "stream",
     "text": [
      "100%|██████████| 218/218 [02:30<00:00,  1.45it/s]\n"
     ]
    },
    {
     "name": "stdout",
     "output_type": "stream",
     "text": [
      "Train Loss 20.30263900756836\n",
      "Train Accuracy 97.46%\n"
     ]
    },
    {
     "name": "stderr",
     "output_type": "stream",
     "text": [
      "100%|██████████| 31/31 [00:06<00:00,  4.65it/s]\n"
     ]
    },
    {
     "name": "stdout",
     "output_type": "stream",
     "text": [
      "Validation Loss 8.910940170288086\n",
      "Validation Accuracy 90.83%\n",
      "Epoch 18\n"
     ]
    },
    {
     "name": "stderr",
     "output_type": "stream",
     "text": [
      "100%|██████████| 218/218 [02:29<00:00,  1.46it/s]\n"
     ]
    },
    {
     "name": "stdout",
     "output_type": "stream",
     "text": [
      "Train Loss 17.988964080810547\n",
      "Train Accuracy 97.92%\n"
     ]
    },
    {
     "name": "stderr",
     "output_type": "stream",
     "text": [
      "100%|██████████| 31/31 [00:06<00:00,  4.74it/s]\n"
     ]
    },
    {
     "name": "stdout",
     "output_type": "stream",
     "text": [
      "Validation Loss 9.135723114013672\n",
      "Validation Accuracy 90.32%\n",
      "Epoch 19\n"
     ]
    },
    {
     "name": "stderr",
     "output_type": "stream",
     "text": [
      "100%|██████████| 218/218 [02:29<00:00,  1.46it/s]\n"
     ]
    },
    {
     "name": "stdout",
     "output_type": "stream",
     "text": [
      "Train Loss 17.191823959350586\n",
      "Train Accuracy 97.81%\n"
     ]
    },
    {
     "name": "stderr",
     "output_type": "stream",
     "text": [
      "100%|██████████| 31/31 [00:06<00:00,  4.68it/s]\n"
     ]
    },
    {
     "name": "stdout",
     "output_type": "stream",
     "text": [
      "Validation Loss 9.236981391906738\n",
      "Validation Accuracy 90.22%\n",
      "Epoch 20\n"
     ]
    },
    {
     "name": "stderr",
     "output_type": "stream",
     "text": [
      "100%|██████████| 218/218 [02:29<00:00,  1.46it/s]\n"
     ]
    },
    {
     "name": "stdout",
     "output_type": "stream",
     "text": [
      "Train Loss 15.643961906433105\n",
      "Train Accuracy 98.28%\n"
     ]
    },
    {
     "name": "stderr",
     "output_type": "stream",
     "text": [
      "100%|██████████| 31/31 [00:07<00:00,  4.38it/s]\n"
     ]
    },
    {
     "name": "stdout",
     "output_type": "stream",
     "text": [
      "Best Model Saved!\n",
      "Validation Loss 9.002235412597656\n",
      "Validation Accuracy 90.93%\n",
      "Epoch 21\n"
     ]
    },
    {
     "name": "stderr",
     "output_type": "stream",
     "text": [
      "100%|██████████| 218/218 [02:31<00:00,  1.44it/s]\n"
     ]
    },
    {
     "name": "stdout",
     "output_type": "stream",
     "text": [
      "Train Loss 14.278761863708496\n",
      "Train Accuracy 98.37%\n"
     ]
    },
    {
     "name": "stderr",
     "output_type": "stream",
     "text": [
      "100%|██████████| 31/31 [00:06<00:00,  4.49it/s]\n"
     ]
    },
    {
     "name": "stdout",
     "output_type": "stream",
     "text": [
      "Validation Loss 8.922317504882812\n",
      "Validation Accuracy 90.22%\n",
      "Epoch 22\n"
     ]
    },
    {
     "name": "stderr",
     "output_type": "stream",
     "text": [
      "100%|██████████| 218/218 [02:30<00:00,  1.45it/s]\n"
     ]
    },
    {
     "name": "stdout",
     "output_type": "stream",
     "text": [
      "Train Loss 12.466875076293945\n",
      "Train Accuracy 98.80%\n"
     ]
    },
    {
     "name": "stderr",
     "output_type": "stream",
     "text": [
      "100%|██████████| 31/31 [00:06<00:00,  4.54it/s]\n"
     ]
    },
    {
     "name": "stdout",
     "output_type": "stream",
     "text": [
      "Validation Loss 9.416574478149414\n",
      "Validation Accuracy 90.52%\n",
      "Epoch 23\n"
     ]
    },
    {
     "name": "stderr",
     "output_type": "stream",
     "text": [
      "100%|██████████| 218/218 [02:32<00:00,  1.43it/s]\n"
     ]
    },
    {
     "name": "stdout",
     "output_type": "stream",
     "text": [
      "Train Loss 12.673961639404297\n",
      "Train Accuracy 98.38%\n"
     ]
    },
    {
     "name": "stderr",
     "output_type": "stream",
     "text": [
      "100%|██████████| 31/31 [00:06<00:00,  4.50it/s]\n"
     ]
    },
    {
     "name": "stdout",
     "output_type": "stream",
     "text": [
      "Validation Loss 9.260788917541504\n",
      "Validation Accuracy 90.62%\n",
      "Epoch 24\n"
     ]
    },
    {
     "name": "stderr",
     "output_type": "stream",
     "text": [
      "100%|██████████| 218/218 [02:32<00:00,  1.43it/s]\n"
     ]
    },
    {
     "name": "stdout",
     "output_type": "stream",
     "text": [
      "Train Loss 11.287821769714355\n",
      "Train Accuracy 98.90%\n"
     ]
    },
    {
     "name": "stderr",
     "output_type": "stream",
     "text": [
      "100%|██████████| 31/31 [00:06<00:00,  4.64it/s]\n"
     ]
    },
    {
     "name": "stdout",
     "output_type": "stream",
     "text": [
      "Validation Loss 9.45303726196289\n",
      "Validation Accuracy 90.12%\n",
      "Epoch 25\n"
     ]
    },
    {
     "name": "stderr",
     "output_type": "stream",
     "text": [
      "100%|██████████| 218/218 [02:31<00:00,  1.44it/s]\n"
     ]
    },
    {
     "name": "stdout",
     "output_type": "stream",
     "text": [
      "Train Loss 9.899307250976562\n",
      "Train Accuracy 98.91%\n"
     ]
    },
    {
     "name": "stderr",
     "output_type": "stream",
     "text": [
      "100%|██████████| 31/31 [00:06<00:00,  4.61it/s]\n"
     ]
    },
    {
     "name": "stdout",
     "output_type": "stream",
     "text": [
      "Validation Loss 9.338750839233398\n",
      "Validation Accuracy 90.32%\n",
      "Epoch 26\n"
     ]
    },
    {
     "name": "stderr",
     "output_type": "stream",
     "text": [
      "100%|██████████| 218/218 [02:32<00:00,  1.43it/s]\n"
     ]
    },
    {
     "name": "stdout",
     "output_type": "stream",
     "text": [
      "Train Loss 9.65733528137207\n",
      "Train Accuracy 99.13%\n"
     ]
    },
    {
     "name": "stderr",
     "output_type": "stream",
     "text": [
      "100%|██████████| 31/31 [00:06<00:00,  4.65it/s]\n"
     ]
    },
    {
     "name": "stdout",
     "output_type": "stream",
     "text": [
      "Validation Loss 9.534866333007812\n",
      "Validation Accuracy 90.32%\n",
      "Epoch 27\n"
     ]
    },
    {
     "name": "stderr",
     "output_type": "stream",
     "text": [
      "100%|██████████| 218/218 [02:32<00:00,  1.42it/s]\n"
     ]
    },
    {
     "name": "stdout",
     "output_type": "stream",
     "text": [
      "Train Loss 8.181234359741211\n",
      "Train Accuracy 99.21%\n"
     ]
    },
    {
     "name": "stderr",
     "output_type": "stream",
     "text": [
      "100%|██████████| 31/31 [00:06<00:00,  4.57it/s]\n"
     ]
    },
    {
     "name": "stdout",
     "output_type": "stream",
     "text": [
      "Validation Loss 9.542430877685547\n",
      "Validation Accuracy 90.42%\n",
      "Epoch 28\n"
     ]
    },
    {
     "name": "stderr",
     "output_type": "stream",
     "text": [
      "100%|██████████| 218/218 [02:35<00:00,  1.40it/s]\n"
     ]
    },
    {
     "name": "stdout",
     "output_type": "stream",
     "text": [
      "Train Loss 8.200379371643066\n",
      "Train Accuracy 99.21%\n"
     ]
    },
    {
     "name": "stderr",
     "output_type": "stream",
     "text": [
      "100%|██████████| 31/31 [00:06<00:00,  4.49it/s]\n"
     ]
    },
    {
     "name": "stdout",
     "output_type": "stream",
     "text": [
      "Validation Loss 9.632524490356445\n",
      "Validation Accuracy 90.32%\n",
      "Epoch 29\n"
     ]
    },
    {
     "name": "stderr",
     "output_type": "stream",
     "text": [
      "100%|██████████| 218/218 [02:33<00:00,  1.42it/s]\n"
     ]
    },
    {
     "name": "stdout",
     "output_type": "stream",
     "text": [
      "Train Loss 8.804115295410156\n",
      "Train Accuracy 99.14%\n"
     ]
    },
    {
     "name": "stderr",
     "output_type": "stream",
     "text": [
      "100%|██████████| 31/31 [00:07<00:00,  4.43it/s]\n"
     ]
    },
    {
     "name": "stdout",
     "output_type": "stream",
     "text": [
      "Validation Loss 9.734386444091797\n",
      "Validation Accuracy 90.32%\n",
      "Epoch 30\n"
     ]
    },
    {
     "name": "stderr",
     "output_type": "stream",
     "text": [
      "100%|██████████| 218/218 [02:34<00:00,  1.41it/s]\n"
     ]
    },
    {
     "name": "stdout",
     "output_type": "stream",
     "text": [
      "Train Loss 7.9057440757751465\n",
      "Train Accuracy 99.24%\n"
     ]
    },
    {
     "name": "stderr",
     "output_type": "stream",
     "text": [
      "100%|██████████| 31/31 [00:06<00:00,  4.51it/s]\n"
     ]
    },
    {
     "name": "stdout",
     "output_type": "stream",
     "text": [
      "Best Model Saved!\n",
      "Validation Loss 9.34695053100586\n",
      "Validation Accuracy 91.23%\n",
      "Epoch 31\n"
     ]
    },
    {
     "name": "stderr",
     "output_type": "stream",
     "text": [
      "100%|██████████| 218/218 [02:33<00:00,  1.42it/s]\n"
     ]
    },
    {
     "name": "stdout",
     "output_type": "stream",
     "text": [
      "Train Loss 6.797652721405029\n",
      "Train Accuracy 99.54%\n"
     ]
    },
    {
     "name": "stderr",
     "output_type": "stream",
     "text": [
      "100%|██████████| 31/31 [00:06<00:00,  4.47it/s]\n"
     ]
    },
    {
     "name": "stdout",
     "output_type": "stream",
     "text": [
      "Validation Loss 9.756185531616211\n",
      "Validation Accuracy 90.62%\n",
      "Epoch 32\n"
     ]
    },
    {
     "name": "stderr",
     "output_type": "stream",
     "text": [
      "100%|██████████| 218/218 [02:33<00:00,  1.42it/s]\n"
     ]
    },
    {
     "name": "stdout",
     "output_type": "stream",
     "text": [
      "Train Loss 6.570354461669922\n",
      "Train Accuracy 99.43%\n"
     ]
    },
    {
     "name": "stderr",
     "output_type": "stream",
     "text": [
      "100%|██████████| 31/31 [00:07<00:00,  4.32it/s]\n"
     ]
    },
    {
     "name": "stdout",
     "output_type": "stream",
     "text": [
      "Best Model Saved!\n",
      "Validation Loss 9.710386276245117\n",
      "Validation Accuracy 91.43%\n",
      "Epoch 33\n"
     ]
    },
    {
     "name": "stderr",
     "output_type": "stream",
     "text": [
      "100%|██████████| 218/218 [02:34<00:00,  1.41it/s]\n"
     ]
    },
    {
     "name": "stdout",
     "output_type": "stream",
     "text": [
      "Train Loss 5.954163551330566\n",
      "Train Accuracy 99.50%\n"
     ]
    },
    {
     "name": "stderr",
     "output_type": "stream",
     "text": [
      "100%|██████████| 31/31 [00:07<00:00,  4.30it/s]\n"
     ]
    },
    {
     "name": "stdout",
     "output_type": "stream",
     "text": [
      "Validation Loss 9.790962219238281\n",
      "Validation Accuracy 90.62%\n",
      "Epoch 34\n"
     ]
    },
    {
     "name": "stderr",
     "output_type": "stream",
     "text": [
      "100%|██████████| 218/218 [02:34<00:00,  1.41it/s]\n"
     ]
    },
    {
     "name": "stdout",
     "output_type": "stream",
     "text": [
      "Train Loss 6.003549098968506\n",
      "Train Accuracy 99.47%\n"
     ]
    },
    {
     "name": "stderr",
     "output_type": "stream",
     "text": [
      "100%|██████████| 31/31 [00:06<00:00,  4.46it/s]\n"
     ]
    },
    {
     "name": "stdout",
     "output_type": "stream",
     "text": [
      "Validation Loss 9.87347412109375\n",
      "Validation Accuracy 90.62%\n",
      "Epoch 35\n"
     ]
    },
    {
     "name": "stderr",
     "output_type": "stream",
     "text": [
      "100%|██████████| 218/218 [02:37<00:00,  1.38it/s]\n"
     ]
    },
    {
     "name": "stdout",
     "output_type": "stream",
     "text": [
      "Train Loss 5.974249362945557\n",
      "Train Accuracy 99.53%\n"
     ]
    },
    {
     "name": "stderr",
     "output_type": "stream",
     "text": [
      "100%|██████████| 31/31 [00:06<00:00,  4.58it/s]\n"
     ]
    },
    {
     "name": "stdout",
     "output_type": "stream",
     "text": [
      "Validation Loss 10.173900604248047\n",
      "Validation Accuracy 90.73%\n",
      "Epoch 36\n"
     ]
    },
    {
     "name": "stderr",
     "output_type": "stream",
     "text": [
      "100%|██████████| 218/218 [02:34<00:00,  1.41it/s]\n"
     ]
    },
    {
     "name": "stdout",
     "output_type": "stream",
     "text": [
      "Train Loss 5.494613170623779\n",
      "Train Accuracy 99.56%\n"
     ]
    },
    {
     "name": "stderr",
     "output_type": "stream",
     "text": [
      "100%|██████████| 31/31 [00:06<00:00,  4.47it/s]\n"
     ]
    },
    {
     "name": "stdout",
     "output_type": "stream",
     "text": [
      "Validation Loss 10.308782577514648\n",
      "Validation Accuracy 90.73%\n",
      "Epoch 37\n"
     ]
    },
    {
     "name": "stderr",
     "output_type": "stream",
     "text": [
      "100%|██████████| 218/218 [02:35<00:00,  1.40it/s]\n"
     ]
    },
    {
     "name": "stdout",
     "output_type": "stream",
     "text": [
      "Train Loss 5.522608757019043\n",
      "Train Accuracy 99.48%\n"
     ]
    },
    {
     "name": "stderr",
     "output_type": "stream",
     "text": [
      "100%|██████████| 31/31 [00:06<00:00,  4.52it/s]\n"
     ]
    },
    {
     "name": "stdout",
     "output_type": "stream",
     "text": [
      "Validation Loss 10.100272178649902\n",
      "Validation Accuracy 90.73%\n",
      "Epoch 38\n"
     ]
    },
    {
     "name": "stderr",
     "output_type": "stream",
     "text": [
      "100%|██████████| 218/218 [02:36<00:00,  1.39it/s]\n"
     ]
    },
    {
     "name": "stdout",
     "output_type": "stream",
     "text": [
      "Train Loss 5.0002760887146\n",
      "Train Accuracy 99.57%\n"
     ]
    },
    {
     "name": "stderr",
     "output_type": "stream",
     "text": [
      "100%|██████████| 31/31 [00:07<00:00,  4.37it/s]\n"
     ]
    },
    {
     "name": "stdout",
     "output_type": "stream",
     "text": [
      "Validation Loss 10.265677452087402\n",
      "Validation Accuracy 90.52%\n",
      "Epoch 39\n"
     ]
    },
    {
     "name": "stderr",
     "output_type": "stream",
     "text": [
      "100%|██████████| 218/218 [02:36<00:00,  1.39it/s]\n"
     ]
    },
    {
     "name": "stdout",
     "output_type": "stream",
     "text": [
      "Train Loss 5.247006893157959\n",
      "Train Accuracy 99.60%\n"
     ]
    },
    {
     "name": "stderr",
     "output_type": "stream",
     "text": [
      "100%|██████████| 31/31 [00:07<00:00,  4.34it/s]\n"
     ]
    },
    {
     "name": "stdout",
     "output_type": "stream",
     "text": [
      "Validation Loss 10.26158618927002\n",
      "Validation Accuracy 90.73%\n",
      "Epoch 40\n"
     ]
    },
    {
     "name": "stderr",
     "output_type": "stream",
     "text": [
      "100%|██████████| 218/218 [02:36<00:00,  1.40it/s]\n"
     ]
    },
    {
     "name": "stdout",
     "output_type": "stream",
     "text": [
      "Train Loss 4.105476379394531\n",
      "Train Accuracy 99.76%\n"
     ]
    },
    {
     "name": "stderr",
     "output_type": "stream",
     "text": [
      "100%|██████████| 31/31 [00:06<00:00,  4.43it/s]\n"
     ]
    },
    {
     "name": "stdout",
     "output_type": "stream",
     "text": [
      "Validation Loss 10.315374374389648\n",
      "Validation Accuracy 91.03%\n",
      "Epoch 41\n"
     ]
    },
    {
     "name": "stderr",
     "output_type": "stream",
     "text": [
      "100%|██████████| 218/218 [02:37<00:00,  1.39it/s]\n"
     ]
    },
    {
     "name": "stdout",
     "output_type": "stream",
     "text": [
      "Train Loss 3.931262969970703\n",
      "Train Accuracy 99.68%\n"
     ]
    },
    {
     "name": "stderr",
     "output_type": "stream",
     "text": [
      "100%|██████████| 31/31 [00:07<00:00,  4.38it/s]\n"
     ]
    },
    {
     "name": "stdout",
     "output_type": "stream",
     "text": [
      "Validation Loss 10.605419158935547\n",
      "Validation Accuracy 90.83%\n",
      "Epoch 42\n"
     ]
    },
    {
     "name": "stderr",
     "output_type": "stream",
     "text": [
      "100%|██████████| 218/218 [02:36<00:00,  1.39it/s]\n"
     ]
    },
    {
     "name": "stdout",
     "output_type": "stream",
     "text": [
      "Train Loss 3.992896556854248\n",
      "Train Accuracy 99.73%\n"
     ]
    },
    {
     "name": "stderr",
     "output_type": "stream",
     "text": [
      "100%|██████████| 31/31 [00:06<00:00,  4.46it/s]\n"
     ]
    },
    {
     "name": "stdout",
     "output_type": "stream",
     "text": [
      "Validation Loss 10.585135459899902\n",
      "Validation Accuracy 90.62%\n",
      "Epoch 43\n"
     ]
    },
    {
     "name": "stderr",
     "output_type": "stream",
     "text": [
      "100%|██████████| 218/218 [02:36<00:00,  1.39it/s]\n"
     ]
    },
    {
     "name": "stdout",
     "output_type": "stream",
     "text": [
      "Train Loss 4.004408359527588\n",
      "Train Accuracy 99.78%\n"
     ]
    },
    {
     "name": "stderr",
     "output_type": "stream",
     "text": [
      "100%|██████████| 31/31 [00:07<00:00,  4.35it/s]\n"
     ]
    },
    {
     "name": "stdout",
     "output_type": "stream",
     "text": [
      "Validation Loss 10.496565818786621\n",
      "Validation Accuracy 90.73%\n",
      "Epoch 44\n"
     ]
    },
    {
     "name": "stderr",
     "output_type": "stream",
     "text": [
      "100%|██████████| 218/218 [02:37<00:00,  1.39it/s]\n"
     ]
    },
    {
     "name": "stdout",
     "output_type": "stream",
     "text": [
      "Train Loss 4.072319984436035\n",
      "Train Accuracy 99.67%\n"
     ]
    },
    {
     "name": "stderr",
     "output_type": "stream",
     "text": [
      "100%|██████████| 31/31 [00:07<00:00,  4.35it/s]\n"
     ]
    },
    {
     "name": "stdout",
     "output_type": "stream",
     "text": [
      "Validation Loss 10.207961082458496\n",
      "Validation Accuracy 90.83%\n",
      "Epoch 45\n"
     ]
    },
    {
     "name": "stderr",
     "output_type": "stream",
     "text": [
      "100%|██████████| 218/218 [02:37<00:00,  1.38it/s]\n"
     ]
    },
    {
     "name": "stdout",
     "output_type": "stream",
     "text": [
      "Train Loss 4.3288655281066895\n",
      "Train Accuracy 99.66%\n"
     ]
    },
    {
     "name": "stderr",
     "output_type": "stream",
     "text": [
      "100%|██████████| 31/31 [00:06<00:00,  4.43it/s]\n"
     ]
    },
    {
     "name": "stdout",
     "output_type": "stream",
     "text": [
      "Validation Loss 10.407424926757812\n",
      "Validation Accuracy 90.93%\n",
      "Epoch 46\n"
     ]
    },
    {
     "name": "stderr",
     "output_type": "stream",
     "text": [
      "100%|██████████| 218/218 [02:38<00:00,  1.37it/s]\n"
     ]
    },
    {
     "name": "stdout",
     "output_type": "stream",
     "text": [
      "Train Loss 4.143744945526123\n",
      "Train Accuracy 99.61%\n"
     ]
    },
    {
     "name": "stderr",
     "output_type": "stream",
     "text": [
      "100%|██████████| 31/31 [00:07<00:00,  4.40it/s]\n"
     ]
    },
    {
     "name": "stdout",
     "output_type": "stream",
     "text": [
      "Validation Loss 10.111724853515625\n",
      "Validation Accuracy 90.83%\n",
      "Epoch 47\n"
     ]
    },
    {
     "name": "stderr",
     "output_type": "stream",
     "text": [
      "100%|██████████| 218/218 [02:37<00:00,  1.38it/s]\n"
     ]
    },
    {
     "name": "stdout",
     "output_type": "stream",
     "text": [
      "Train Loss 4.005531311035156\n",
      "Train Accuracy 99.64%\n"
     ]
    },
    {
     "name": "stderr",
     "output_type": "stream",
     "text": [
      "100%|██████████| 31/31 [00:07<00:00,  4.32it/s]\n"
     ]
    },
    {
     "name": "stdout",
     "output_type": "stream",
     "text": [
      "Validation Loss 10.764644622802734\n",
      "Validation Accuracy 90.62%\n",
      "Epoch 48\n"
     ]
    },
    {
     "name": "stderr",
     "output_type": "stream",
     "text": [
      "100%|██████████| 218/218 [02:37<00:00,  1.38it/s]\n"
     ]
    },
    {
     "name": "stdout",
     "output_type": "stream",
     "text": [
      "Train Loss 3.829559803009033\n",
      "Train Accuracy 99.73%\n"
     ]
    },
    {
     "name": "stderr",
     "output_type": "stream",
     "text": [
      "100%|██████████| 31/31 [00:07<00:00,  4.40it/s]\n"
     ]
    },
    {
     "name": "stdout",
     "output_type": "stream",
     "text": [
      "Validation Loss 10.57510757446289\n",
      "Validation Accuracy 91.03%\n",
      "Epoch 49\n"
     ]
    },
    {
     "name": "stderr",
     "output_type": "stream",
     "text": [
      "100%|██████████| 218/218 [02:38<00:00,  1.38it/s]\n"
     ]
    },
    {
     "name": "stdout",
     "output_type": "stream",
     "text": [
      "Train Loss 3.90968656539917\n",
      "Train Accuracy 99.68%\n"
     ]
    },
    {
     "name": "stderr",
     "output_type": "stream",
     "text": [
      "100%|██████████| 31/31 [00:07<00:00,  4.30it/s]\n"
     ]
    },
    {
     "name": "stdout",
     "output_type": "stream",
     "text": [
      "Validation Loss 10.885448455810547\n",
      "Validation Accuracy 90.62%\n",
      "Epoch 50\n"
     ]
    },
    {
     "name": "stderr",
     "output_type": "stream",
     "text": [
      "100%|██████████| 218/218 [02:39<00:00,  1.37it/s]\n"
     ]
    },
    {
     "name": "stdout",
     "output_type": "stream",
     "text": [
      "Train Loss 2.7799389362335205\n",
      "Train Accuracy 99.83%\n"
     ]
    },
    {
     "name": "stderr",
     "output_type": "stream",
     "text": [
      "100%|██████████| 31/31 [00:07<00:00,  4.31it/s]"
     ]
    },
    {
     "name": "stdout",
     "output_type": "stream",
     "text": [
      "Validation Loss 10.910746574401855\n",
      "Validation Accuracy 90.83%\n"
     ]
    },
    {
     "name": "stderr",
     "output_type": "stream",
     "text": [
      "\n"
     ]
    }
   ],
   "source": [
    "# HINT: note that your training time should not take more than 2 hours.\n",
    "\n",
    "# TODO:\n",
    "# Pick your hyper parameters\n",
    "max_epoch = 50\n",
    "train_batch = 32\n",
    "test_batch = 32\n",
    "learning_rate = 1e-3\n",
    "\n",
    "use_gpu = torch.cuda.is_available()\n",
    "device = torch.device(\"cuda\" if use_gpu else \"cpu\")\n",
    "\n",
    "# Create train dataset loader\n",
    "# Create validation dataset loader\n",
    "# Create test dataset loader\n",
    "train_loader = DataLoader(dataset=train_dataset, batch_size=train_batch, shuffle=True, drop_last=True)\n",
    "val_loader = DataLoader(dataset=val_dataset, batch_size=train_batch, shuffle=True, drop_last=True)\n",
    "test_loader = DataLoader(dataset=test_dataset, batch_size=test_batch, shuffle=False, drop_last=True)\n",
    "\n",
    "# initialize your network\n",
    "model = models.resnet18(pretrained=True)\n",
    "num_features = model.fc.in_features\n",
    "# model.fc = replace its output layer with a linear layer (in_features, proper number according to your output classes)\n",
    "model.fc = nn.Linear(num_features,4)\n",
    "# define your loss function\n",
    "loss_fuc = nn.CrossEntropyLoss()  \n",
    "optimizer = torch.optim.SGD(model.parameters(), lr = learning_rate, weight_decay = 0.0005) # you can play with momentum and weight_decay parameters as well\n",
    "    \n",
    "# start training\n",
    "# for each epoch calculate validation performance\n",
    "# save best model according to validation performance\n",
    "last_val_acc = None\n",
    "train_losses = []\n",
    "val_losses = []\n",
    "train_accuracies = []\n",
    "val_accuracies = []\n",
    "for epoch in range(max_epoch):\n",
    "    train_accurate = 0\n",
    "    val_accurate = 0\n",
    "    print(f\"Epoch {epoch + 1}\")\n",
    "    model=model.train()\n",
    "    train_loss = 0\n",
    "    val_loss = 0\n",
    "    train_idx = 0\n",
    "    #    iterate over training batches\n",
    "    for x,y in tqdm(train_loader):\n",
    "      train_idx += 1\n",
    "\n",
    "      optimizer.zero_grad()\n",
    "      output = model(x)\n",
    "      batch_loss = loss_fuc(output, y)\n",
    "      train_loss += batch_loss\n",
    "      train_accurate += accuracy(output, y)\n",
    "\n",
    "      batch_loss.backward()\n",
    "      optimizer.step()\n",
    "    train_accuracy = train_accurate / (train_idx * train_batch)\n",
    "    print(f\"Train Loss {train_loss}\")\n",
    "    print(\"Train Accuracy {:.2f}%\".format(train_accuracy * 100))\n",
    "    train_accuracies.append(train_accuracy)\n",
    "    train_losses.append(train_loss)\n",
    "    # #    Validation\n",
    "    model = model.eval()\n",
    "    with torch.no_grad():\n",
    "    #     iterate over validation batches\n",
    "      val_idx = 0\n",
    "      for x,y in tqdm(val_loader):\n",
    "        val_idx += 1\n",
    "\n",
    "        output = model(x)\n",
    "        batch_loss = loss_fuc(output, y)\n",
    "        val_loss += batch_loss\n",
    "        val_accurate += accuracy(output, y)\n",
    "      val_accuracy = val_accurate / (val_idx * train_batch)\n",
    "      if last_val_acc == None or val_accuracy > last_val_acc:\n",
    "        last_val_acc = val_accuracy\n",
    "        torch.save(model, \"~/CS464_Fall21_HW3/best_cnn_transfer.pth\")\n",
    "        print(\"Best Model Saved!\")\n",
    "      print(f\"Validation Loss {val_loss}\")\n",
    "      print(\"Validation Accuracy {:.2f}%\".format(val_accuracy * 100))\n",
    "      val_accuracies.append(val_accuracy)\n",
    "      val_losses.append(val_loss)\n"
   ]
  },
  {
   "cell_type": "markdown",
   "metadata": {
    "id": "wu9HNrNMUvK_"
   },
   "source": [
    "####Test for Transfer Learning [10 pts.]\n",
    "\n",
    "Report the following for your best model on your test set which has not been seen by the model yet.\n",
    "1. A heatmap for confusion matrix\n",
    "2. Accuracy\n",
    "3. Macro Precision\n",
    "4. Macro Recall\n",
    "5. F1 Score\n",
    "\n",
    "Then, discuss figures that you have plotted in the previous section, your test results and algorithm complexity with maximum 200 words. Explain the advantages of using transfer learning. Is it better to reuse a pretrained model instead of training a model from scratch? Why?\n",
    "\n",
    "Answer: When two different strategy were examined, it is observed that pretrained model works better than scratch model. The most obvious reason is that ResNet18 was trained with thousands of different image and its model structure is much more complex than CNN structure that is specified above. Therefore ResNet 18 model can extract features of the images successfully. This is the good example of the transfer learning because the old trained model which is known work well is used to do different objective but it still gives much more result. It is easily seen that pretrained model gives 90% accuracy while scratch model gives 78% accuracy on test set."
   ]
  },
  {
   "cell_type": "code",
   "execution_count": 57,
   "metadata": {
    "id": "2mUn9CdYUvLA"
   },
   "outputs": [
    {
     "name": "stderr",
     "output_type": "stream",
     "text": [
      "100%|██████████| 62/62 [00:12<00:00,  4.91it/s]\n"
     ]
    },
    {
     "name": "stdout",
     "output_type": "stream",
     "text": [
      "Mean Loss: tensor(0.3579) \n",
      "Mean Acc: 0.9002016129032258 \n",
      "Mean Macro Precision: 0.8983106680812916 \n",
      "Mean Macro Recall: 0.8989449599035547 \n",
      "Mean Macro F1 Score: 0.8985513159618398\n"
     ]
    },
    {
     "data": {
      "image/png": "[encoded data removed]",
      "text/plain": [
       "<Figure size 432x288 with 1 Axes>"
      ]
     },
     "metadata": {
      "needs_background": "light"
     },
     "output_type": "display_data"
    }
   ],
   "source": [
    "# Test CNN\n",
    "# load best model\n",
    "best_path = \"~/CS464_Fall21_HW3/best_cnn_transfer.pth\"\n",
    "model = torch.load(best_path)\n",
    "\n",
    "# evaluate on test set\n",
    "model = model.eval()\n",
    "with torch.no_grad():\n",
    "# iterate over test batches\n",
    "  test_idx = 0\n",
    "  y_true = None\n",
    "  y_pred = None\n",
    "  test_loss = 0\n",
    "  for x,y in tqdm(test_loader):\n",
    "    test_idx += 1\n",
    "\n",
    "    output = model(x)\n",
    "    batch_loss = loss_fuc(output, y)\n",
    "    test_loss += batch_loss\n",
    "    if test_idx == 1:\n",
    "      y_true = y.cpu().numpy()\n",
    "      y_pred = np.argmax(output.cpu().numpy(), axis=-1)\n",
    "    else:\n",
    "      y_true = np.concatenate((y_true, y.cpu().numpy()), axis=-1)\n",
    "      y_pred = np.concatenate((y_pred, np.argmax(output.cpu().numpy(), axis=-1)), axis=-1)\n",
    "\n",
    "  losses = test_loss / test_idx\n",
    "#   get confusion matrix\n",
    "conf_matrix = confusion_matrix(y_true, y_pred)\n",
    "#   calculate accuracy\n",
    "acc = accuracy_score(y_true, y_pred)\n",
    "#   calculate precision\n",
    "pre = precision_score(y_true, y_pred, average='macro')\n",
    "#   calculate recall\n",
    "recall = recall_score(y_true, y_pred, average='macro')\n",
    "#   calculate F1 score\n",
    "f1 = f1_score(y_true, y_pred, average='macro')\n",
    "\n",
    "# print metrics\n",
    "print(\"Mean Loss:\", losses, \"\\nMean Acc:\", acc,\"\\nMean Macro Precision:\", pre, \"\\nMean Macro Recall:\", recall, \"\\nMean Macro F1 Score:\", f1) \n",
    "\n",
    "# plot confusion matrix\n",
    "fig, ax = plt.subplots()\n",
    "im = ax.imshow(conf_matrix)\n",
    "# We want to show all ticks...\n",
    "ax.set_xticks(np.arange(4))\n",
    "ax.set_yticks(np.arange(4))\n",
    "\n",
    "fig.tight_layout()\n",
    "plt.show()"
   ]
  }
 ],
 "metadata": {
  "colab": {
   "collapsed_sections": [],
   "name": "cs464_fall21_hw3.ipynb",
   "provenance": []
  },
  "kernelspec": {
   "display_name": "Python 3",
   "language": "python",
   "name": "python3"
  },
  "language_info": {
   "codemirror_mode": {
    "name": "ipython",
    "version": 3
   },
   "file_extension": ".py",
   "mimetype": "text/x-python",
   "name": "python",
   "nbconvert_exporter": "python",
   "pygments_lexer": "ipython3",
   "version": "3.7.6"
  }
 },
 "nbformat": 4,
 "nbformat_minor": 1
}
